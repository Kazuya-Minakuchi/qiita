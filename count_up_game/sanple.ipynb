{
 "cells": [
  {
   "cell_type": "markdown",
   "metadata": {},
   "source": [
    "# xx言ったら負けゲーム"
   ]
  },
  {
   "cell_type": "code",
   "execution_count": 1,
   "metadata": {},
   "outputs": [],
   "source": [
    "import random"
   ]
  },
  {
   "cell_type": "code",
   "execution_count": 145,
   "metadata": {},
   "outputs": [],
   "source": [
    "# プレイヤー\n",
    "class Player:\n",
    "    def count_up(self, cnt, cnt_max, finish_num):\n",
    "        # 直前で止められるときは、止める\n",
    "        if cnt <  finish_num - 1 <= cnt + cnt_max:\n",
    "            return finish_num - cnt - 1\n",
    "        return random.randint(1, cnt_max)"
   ]
  },
  {
   "cell_type": "code",
   "execution_count": 121,
   "metadata": {},
   "outputs": [],
   "source": [
    "# 敵キャラ\n",
    "class EnemyCharacter:\n",
    "    \"\"\"\n",
    "    ランダムにカウントアップする\n",
    "    直前で止められるときだけ、止める\n",
    "    \"\"\"\n",
    "    def count_up(self, cnt, cnt_max, finish_num):\n",
    "        # 直前で止められるときは、止める\n",
    "        if cnt <  finish_num - 1 <= cnt + cnt_max:\n",
    "            return finish_num - cnt - 1\n",
    "        return random.randint(1, cnt_max)"
   ]
  },
  {
   "cell_type": "code",
   "execution_count": 122,
   "metadata": {},
   "outputs": [],
   "source": [
    "e = EnemyCharacter()"
   ]
  },
  {
   "cell_type": "code",
   "execution_count": 144,
   "metadata": {},
   "outputs": [
    {
     "data": {
      "text/plain": [
       "2"
      ]
     },
     "execution_count": 144,
     "metadata": {},
     "output_type": "execute_result"
    }
   ],
   "source": [
    "e.count_up(cnt=23, cnt_max=5, finish_num=30)"
   ]
  },
  {
   "cell_type": "code",
   "execution_count": null,
   "metadata": {},
   "outputs": [],
   "source": []
  },
  {
   "cell_type": "code",
   "execution_count": 213,
   "metadata": {},
   "outputs": [],
   "source": [
    "# xx言ったら負けゲーム\n",
    "class CountUpGame:\n",
    "    def __init__(self, finish_num: int, cnt_max: int, p1_first: bool):\n",
    "        self.finish_num = finish_num # 言ったら負け数字\n",
    "        self.cnt_max = cnt_max # 一度に上げられる数\n",
    "        self.cnt = 0 # カウント(ゼロスタート)\n",
    "        self.players = {k: v for k, v in enumerate([Player(), EnemyCharacter()])}\n",
    "        if p1_first: # p1が先攻かどうか\n",
    "            self.player_num = 0\n",
    "        else:\n",
    "            self.player_num = 1\n",
    "    \n",
    "    def play(self):\n",
    "        # 1ずつ上げても、最大数字ターン目には終わる\n",
    "        for i in range(self.finish_num):\n",
    "            print(i+1, \"ターン目\")\n",
    "            self.print_info()\n",
    "            self.count_up()\n",
    "            # 終了判定\n",
    "            if self.is_finish():\n",
    "                print(\"終了\")\n",
    "                print(\"プレイヤー\", self.player_num, \"の負け\")\n",
    "                break\n",
    "            self.change_player()\n",
    "    \n",
    "    def print_info(self):\n",
    "        print(\"現在\")\n",
    "        print(\n",
    "            \"プレイヤー\", self.player_num,\n",
    "            \"カウント\", self.cnt,\n",
    "            \"言ったら負けの数\", self.finish_num,\n",
    "            \"最大上げられる数字\", self.cnt_max\n",
    "        )\n",
    "    \n",
    "    def count_up(self):\n",
    "        cnt_up = self.players[self.player_num].count_up(\n",
    "            cnt=self.cnt,\n",
    "            cnt_max=self.cnt_max,\n",
    "            finish_num=self.finish_num\n",
    "        )\n",
    "        print(cnt_up, \"上げる\")\n",
    "        self.cnt += cnt_up\n",
    "    \n",
    "    def is_finish(self):\n",
    "        return self.cnt >= self.finish_num\n",
    "    \n",
    "    def change_player(self):\n",
    "        # 最後のプレイヤーのときは、最初に戻る\n",
    "        if self.player_num == max(self.players):\n",
    "            self.player_num = 0\n",
    "            return\n",
    "        self.player_num += 1\n",
    "        return\n"
   ]
  },
  {
   "cell_type": "code",
   "execution_count": 214,
   "metadata": {},
   "outputs": [],
   "source": [
    "game = CountUpGame(\n",
    "    finish_num=30,\n",
    "    cnt_max=3,\n",
    "    p1_first=True,\n",
    ")"
   ]
  },
  {
   "cell_type": "code",
   "execution_count": 215,
   "metadata": {},
   "outputs": [
    {
     "name": "stdout",
     "output_type": "stream",
     "text": [
      "1 ターン目\n",
      "現在\n",
      "プレイヤー 0 カウント 0 言ったら負けの数 30 最大上げられる数字 3\n",
      "2 上げる\n",
      "2 ターン目\n",
      "現在\n",
      "プレイヤー 1 カウント 2 言ったら負けの数 30 最大上げられる数字 3\n",
      "2 上げる\n",
      "3 ターン目\n",
      "現在\n",
      "プレイヤー 0 カウント 4 言ったら負けの数 30 最大上げられる数字 3\n",
      "3 上げる\n",
      "4 ターン目\n",
      "現在\n",
      "プレイヤー 1 カウント 7 言ったら負けの数 30 最大上げられる数字 3\n",
      "1 上げる\n",
      "5 ターン目\n",
      "現在\n",
      "プレイヤー 0 カウント 8 言ったら負けの数 30 最大上げられる数字 3\n",
      "3 上げる\n",
      "6 ターン目\n",
      "現在\n",
      "プレイヤー 1 カウント 11 言ったら負けの数 30 最大上げられる数字 3\n",
      "1 上げる\n",
      "7 ターン目\n",
      "現在\n",
      "プレイヤー 0 カウント 12 言ったら負けの数 30 最大上げられる数字 3\n",
      "3 上げる\n",
      "8 ターン目\n",
      "現在\n",
      "プレイヤー 1 カウント 15 言ったら負けの数 30 最大上げられる数字 3\n",
      "1 上げる\n",
      "9 ターン目\n",
      "現在\n",
      "プレイヤー 0 カウント 16 言ったら負けの数 30 最大上げられる数字 3\n",
      "3 上げる\n",
      "10 ターン目\n",
      "現在\n",
      "プレイヤー 1 カウント 19 言ったら負けの数 30 最大上げられる数字 3\n",
      "1 上げる\n",
      "11 ターン目\n",
      "現在\n",
      "プレイヤー 0 カウント 20 言ったら負けの数 30 最大上げられる数字 3\n",
      "2 上げる\n",
      "12 ターン目\n",
      "現在\n",
      "プレイヤー 1 カウント 22 言ったら負けの数 30 最大上げられる数字 3\n",
      "3 上げる\n",
      "13 ターン目\n",
      "現在\n",
      "プレイヤー 0 カウント 25 言ったら負けの数 30 最大上げられる数字 3\n",
      "3 上げる\n",
      "14 ターン目\n",
      "現在\n",
      "プレイヤー 1 カウント 28 言ったら負けの数 30 最大上げられる数字 3\n",
      "1 上げる\n",
      "15 ターン目\n",
      "現在\n",
      "プレイヤー 0 カウント 29 言ったら負けの数 30 最大上げられる数字 3\n",
      "1 上げる\n",
      "終了\n",
      "プレイヤー 0 の負け\n"
     ]
    }
   ],
   "source": [
    "game.play()"
   ]
  },
  {
   "cell_type": "code",
   "execution_count": null,
   "metadata": {},
   "outputs": [],
   "source": []
  }
 ],
 "metadata": {
  "kernelspec": {
   "display_name": "Python 3",
   "language": "python",
   "name": "python3"
  },
  "language_info": {
   "codemirror_mode": {
    "name": "ipython",
    "version": 3
   },
   "file_extension": ".py",
   "mimetype": "text/x-python",
   "name": "python",
   "nbconvert_exporter": "python",
   "pygments_lexer": "ipython3",
   "version": "3.7.1"
  }
 },
 "nbformat": 4,
 "nbformat_minor": 4
}
