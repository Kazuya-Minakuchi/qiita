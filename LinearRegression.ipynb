{
 "cells": [
  {
   "cell_type": "markdown",
   "metadata": {},
   "source": [
    "https://qiita.com/kazuya_minakuchi/items/186b20efd0eefdeb026b#%E7%B7%9A%E5%BD%A2%E5%9B%9E%E5%B8%B0 の図を作ったコード"
   ]
  },
  {
   "cell_type": "markdown",
   "metadata": {},
   "source": [
    "※ほとんど「機械学習のエッセンス: https://www.amazon.co.jp/gp/product/4797393963/ref=ppx_yo_dt_b_search_asin_title 」の写経"
   ]
  },
  {
   "cell_type": "code",
   "execution_count": 1,
   "metadata": {},
   "outputs": [],
   "source": [
    "#必要なライブラリインポート\n",
    "import numpy as np\n",
    "from scipy import linalg\n",
    "import matplotlib.pyplot as plt"
   ]
  },
  {
   "cell_type": "code",
   "execution_count": 2,
   "metadata": {},
   "outputs": [],
   "source": [
    "#線形回帰のクラス\n",
    "class LinearRegression:\n",
    "    def __init__(self):\n",
    "        self.w_ = None\n",
    "    \n",
    "    #教師データから係数計算する\n",
    "    def fit(self, X, t):\n",
    "        #xに定数項加える\n",
    "        Xtil = np.c_[np.ones(X.shape[0]), X]\n",
    "        #行列使って係数を計算\n",
    "        A = np.dot(Xtil.T, Xtil)\n",
    "        b = np.dot(Xtil.T, t)\n",
    "        self.w_ =linalg.solve(A, b)\n",
    "    \n",
    "    #xからyを予測(fit後に使う)\n",
    "    def predict(self, X):\n",
    "        if X.ndim ==1:\n",
    "            X = X.reshape(1, -1)\n",
    "        Xtil = np.c_[np.ones(X.shape[0]), X]\n",
    "        return np.dot(Xtil, self.w_)"
   ]
  },
  {
   "cell_type": "code",
   "execution_count": 3,
   "metadata": {
    "scrolled": true
   },
   "outputs": [
    {
     "data": {
      "image/png": "[encoded data removed]",
      "text/plain": [
       "<Figure size 432x288 with 1 Axes>"
      ]
     },
     "metadata": {
      "needs_background": "light"
     },
     "output_type": "display_data"
    }
   ],
   "source": [
    "x = np.array([1, 2, 4, 6, 7])\n",
    "y = np.array([1, 3, 3, 5, 4])\n",
    "plt.scatter(x, y, color=\"k\")\n",
    "\n",
    "model = LinearRegression()\n",
    "model.fit(x, y)\n",
    "\n",
    "xmax = x.max()\n",
    "plt.plot([0, xmax],\n",
    "         [model.predict(np.array([0])), model.predict(np.array([xmax]))],\n",
    "         color=\"k\")\n",
    "plt.show()"
   ]
  },
  {
   "cell_type": "code",
   "execution_count": 4,
   "metadata": {},
   "outputs": [],
   "source": [
    "#多項式近似\n",
    "class PolynomialRegression:\n",
    "    #次数決定\n",
    "    def __init__(self, degree):\n",
    "        self.degree = degree\n",
    "    \n",
    "    #教師データから係数計算する\n",
    "    def fit(self, regressor, x, y):\n",
    "        x_pow = []\n",
    "        xx = x.reshape(len(x), 1)\n",
    "        for i in range(1, self.degree + 1):\n",
    "            x_pow.append(xx**i)\n",
    "        mat = np.concatenate(x_pow, axis=1)\n",
    "        regressor.fit(mat, y)\n",
    "        self.w_ = regressor.w_\n",
    "    \n",
    "    #xからyを予測(fit後に使う)\n",
    "    def predict(self, x):\n",
    "        r = 0\n",
    "        for i in range(self.degree + 1):\n",
    "            r += x**i * self.w_[i]\n",
    "        return r"
   ]
  },
  {
   "cell_type": "code",
   "execution_count": 5,
   "metadata": {
    "scrolled": true
   },
   "outputs": [],
   "source": [
    "np.random.seed(0)\n",
    "\n",
    "def f(x):\n",
    "    return 1 + 2 * x\n",
    "\n",
    "#データ生成\n",
    "x = np.random.random(10) * 10\n",
    "y = f(x) + np.random.randn(10)"
   ]
  },
  {
   "cell_type": "code",
   "execution_count": 6,
   "metadata": {},
   "outputs": [
    {
     "name": "stderr",
     "output_type": "stream",
     "text": [
      "C:\\Users\\kazuy\\Anaconda3\\lib\\site-packages\\ipykernel_launcher.py:13: LinAlgWarning: Ill-conditioned matrix (rcond=3.44759e-31): result may not be accurate.\n",
      "  del sys.path[0]\n"
     ]
    },
    {
     "data": {
      "image/png": "[encoded data removed]",
      "text/plain": [
       "<Figure size 432x288 with 1 Axes>"
      ]
     },
     "metadata": {
      "needs_background": "light"
     },
     "output_type": "display_data"
    }
   ],
   "source": [
    "plt.scatter(x, y, color=\"k\")\n",
    "\n",
    "x1 = x.min() - 1\n",
    "x2 = x.max() + 1\n",
    "plt.plot([x1, x2], [f(x1), f(x2)], color=\"k\", linestyle=\"dashed\")\n",
    "\n",
    "#多項式近似\n",
    "model = PolynomialRegression(10) #10次式\n",
    "model.fit(LinearRegression(), x, y)\n",
    "plt.ylim([y.min() - 1, y.max() + 1])\n",
    "xx = np.linspace(x.min(), x.max(), 300)\n",
    "yy = np.array([model.predict(u) for u in xx])\n",
    "plt.plot(xx, yy, color=\"k\")\n",
    "\n",
    "plt.show()"
   ]
  },
  {
   "cell_type": "code",
   "execution_count": 7,
   "metadata": {},
   "outputs": [],
   "source": [
    "#リッジ回帰\n",
    "class RidgeRegression:\n",
    "    def __init__(self, lambda_=1.):\n",
    "        self.lambda_ = lambda_  #ハイパーパラメータ: L2ノルムの重み\n",
    "        self.w_ = None\n",
    "    \n",
    "    #教師データから係数計算する\n",
    "    def fit(self, X, t):\n",
    "        Xtil = np.c_[np.ones(X.shape[0]), X]\n",
    "        #行列使って係数を計算\n",
    "        c = self.lambda_ * np.eye(Xtil.shape[1]) #ハイパーパラメータ×単位行列\n",
    "        A = np.dot(Xtil.T, Xtil) + c\n",
    "        b = np.dot(Xtil.T, t)\n",
    "        self.w_ = linalg.solve(A, b)\n",
    "    \n",
    "    #xからyを予測(fit後に使う)\n",
    "    def predict(self, X):\n",
    "        Xtil = np.c_[np.ones(X.shape[0]), X]\n",
    "        return np.dot(Xtil, self.w_)"
   ]
  },
  {
   "cell_type": "code",
   "execution_count": 8,
   "metadata": {},
   "outputs": [
    {
     "name": "stderr",
     "output_type": "stream",
     "text": [
      "C:\\Users\\kazuy\\Anaconda3\\lib\\site-packages\\ipykernel_launcher.py:14: LinAlgWarning: Ill-conditioned matrix (rcond=1.0006e-20): result may not be accurate.\n",
      "  \n"
     ]
    },
    {
     "data": {
      "image/png": "[encoded data removed]",
      "text/plain": [
       "<Figure size 432x288 with 1 Axes>"
      ]
     },
     "metadata": {
      "needs_background": "light"
     },
     "output_type": "display_data"
    }
   ],
   "source": [
    "plt.scatter(x, y, color=\"k\")\n",
    "\n",
    "x1 = x.min() - 1\n",
    "x2 = x.max() + 1\n",
    "plt.plot([x1, x2], [f(x1), f(x2)], color=\"k\", linestyle=\"dashed\")\n",
    "\n",
    "#多項式近似\n",
    "model = PolynomialRegression(10) #10次式\n",
    "model.fit(RidgeRegression(), x, y)\n",
    "plt.ylim([y.min() - 1, y.max() + 1])\n",
    "xx = np.linspace(x.min(), x.max(), 300)\n",
    "yy = np.array([model.predict(u) for u in xx])\n",
    "plt.plot(xx, yy, color=\"k\")\n",
    "\n",
    "plt.show()"
   ]
  },
  {
   "cell_type": "code",
   "execution_count": 9,
   "metadata": {},
   "outputs": [],
   "source": [
    "def soft_thresholding(x, y):\n",
    "    #戻り値(前提:y>0)\n",
    "    #if y < x        return x-y\n",
    "    #if -y <= x <= y return 0\n",
    "    #if x < -y       return x+y\n",
    "    return np.sign(x) * max(abs(x) - y, 0)\n",
    "\n",
    "#ラッソ回帰\n",
    "class Lasso:\n",
    "    def __init__(self, lambda_, tol=0.0001, max_iter=1000):\n",
    "        self.lambda_ = lambda_\n",
    "        self.tol = tol\n",
    "        self.max_iter = max_iter\n",
    "        self.w_ = None\n",
    "    \n",
    "    #教師データから係数計算する\n",
    "    def fit(self, X, t):\n",
    "        n, d = X.shape\n",
    "        self.w_ = np.zeros(d + 1)  #初期値はとりあえず全部0\n",
    "        avgl1 = 0.\n",
    "        #リッジは手計算では解けないので繰り返し計算で解を求める\n",
    "        for _ in range(self.max_iter):\n",
    "            avgl1_prev = avgl1        #更新前の係数(絶対値)の平均\n",
    "            self._update(n, d, X, t)  #更新\n",
    "            #更新後の係数(絶対値)の平均\n",
    "            avgl1 = np.abs(self.w_).sum() / self.w_.shape[0]\n",
    "            #更新しても係数がほぼ変化しなくなったらループ終了\n",
    "            if abs(avgl1 - avgl1_prev) <= self.tol:\n",
    "                break\n",
    "    \n",
    "    #繰り返し計算の係数更新\n",
    "    def _update(self, n, d, X, t):\n",
    "        self.w_[0] = (t - np.dot(X, self.w_[1:])).sum() / n\n",
    "        w0vec = np.ones(n) * self.w_[0]\n",
    "        for k in range(d):\n",
    "            ww = self.w_[1:]\n",
    "            ww[k] = 0\n",
    "            q = np.dot(t - w0vec - np.dot(X, ww), X[:, k]) #wkの分子のλ以外\n",
    "            r = np.dot(X[:, k], X[:, k])                   #wkの分母\n",
    "            #↓はλ/r -> λと変更してるが、定数項なのでOK\n",
    "            self.w_[k + 1] = soft_thresholding(q / r, self.lambda_)\n",
    "    \n",
    "    #xからyを予測(fit後に使う)\n",
    "    def predict(self, X):\n",
    "        if X.ndim ==1:\n",
    "            X = X.reshape(1, -1)\n",
    "        Xtil = np.c_[np.ones(X.shape[0]), X]\n",
    "        return np.dot(Xtil, self.w_)"
   ]
  },
  {
   "cell_type": "code",
   "execution_count": 10,
   "metadata": {},
   "outputs": [
    {
     "data": {
      "image/png": "[encoded data removed]",
      "text/plain": [
       "<Figure size 432x288 with 1 Axes>"
      ]
     },
     "metadata": {
      "needs_background": "light"
     },
     "output_type": "display_data"
    }
   ],
   "source": [
    "plt.scatter(x, y, color=\"k\")\n",
    "\n",
    "x1 = x.min() - 1\n",
    "x2 = x.max() + 1\n",
    "plt.plot([x1, x2], [f(x1), f(x2)], color=\"k\", linestyle=\"dashed\")\n",
    "\n",
    "#多項式近似\n",
    "model = PolynomialRegression(10) #10次式\n",
    "model.fit(Lasso(lambda_=0.0001), x, y)\n",
    "plt.ylim([y.min() - 1, y.max() + 1])\n",
    "xx = np.linspace(x.min(), x.max(), 300)\n",
    "yy = np.array([model.predict(u) for u in xx])\n",
    "plt.plot(xx, yy, color=\"k\")\n",
    "\n",
    "plt.show()\n",
    "\n",
    "#print(model.w_)"
   ]
  }
 ],
 "metadata": {
  "kernelspec": {
   "display_name": "Python 3",
   "language": "python",
   "name": "python3"
  },
  "language_info": {
   "codemirror_mode": {
    "name": "ipython",
    "version": 3
   },
   "file_extension": ".py",
   "mimetype": "text/x-python",
   "name": "python",
   "nbconvert_exporter": "python",
   "pygments_lexer": "ipython3",
   "version": "3.7.1"
  }
 },
 "nbformat": 4,
 "nbformat_minor": 4
}
