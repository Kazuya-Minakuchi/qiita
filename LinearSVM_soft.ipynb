{
 "cells": [
  {
   "cell_type": "markdown",
   "metadata": {},
   "source": [
    "* https://qiita.com/kazuya_minakuchi/items/42d276cb1a6e68ffa0e4 の図を作ったコード\n",
    "* ※ほとんど「機械学習のエッセンス: https://www.amazon.co.jp/gp/product/4797393963/ref=ppx_yo_dt_b_search_asin_title 」の写経"
   ]
  },
  {
   "cell_type": "code",
   "execution_count": 1,
   "metadata": {},
   "outputs": [],
   "source": [
    "# 必要なライブラリインポート\n",
    "import numpy as np\n",
    "from operator import itemgetter\n",
    "import matplotlib.pyplot as plt"
   ]
  },
  {
   "cell_type": "code",
   "execution_count": 2,
   "metadata": {},
   "outputs": [],
   "source": [
    "# 境界線が直線で、完全に分離できない場合\n",
    "class LinearSVC:\n",
    "    def __init__(self, C=1.):\n",
    "        self.C = C  # ハイパーパラメータを設定: 間違えを許す度合い\n",
    "\n",
    "    def fit(self, X, y, selections=None):\n",
    "        # 初期値は全部0からスタート\n",
    "        a = np.zeros(X.shape[0])\n",
    "        # aの初期値が0なので、これらも0からスタート\n",
    "        ay = 0\n",
    "        ayx = np.zeros(X.shape[1])\n",
    "        \n",
    "        yx = y.reshape(-1, 1)*X\n",
    "        indices = np.arange(X.shape[0])    # インデックス用\n",
    "        \n",
    "        # 手計算では解けないので繰り返し計算で解を出す\n",
    "        while True:\n",
    "            ydf = y*(1-np.dot(yx, ayx.T))  # y∇f(a)\n",
    "            iydf = np.c_[indices, ydf]     # ｙにインデックス付ける\n",
    "            # 今回更新するaを2つ選ぶ\n",
    "            i = int(min(iydf[((a > 0) & (y > 0)) |\n",
    "                             ((a < self.C) & (y < 0))],\n",
    "                        key=itemgetter(1))[0])\n",
    "            j = int(max(iydf[((a > 0) & (y < 0)) |\n",
    "                             ((a < self.C) & (y > 0))],\n",
    "                        key=itemgetter(1))[0])\n",
    "            # 収束条件\n",
    "            if ydf[i] >= ydf[j]:\n",
    "                break\n",
    "            # ayからai, ajの成分引いたやつ\n",
    "            ay2 = ay - y[i]*a[i] - y[j]*a[j]\n",
    "            ayx2 = ayx - y[i]*a[i]*X[i, :] - y[j]*a[j]*X[j, :]\n",
    "            # ai更新\n",
    "            ai = ((1-y[i]*y[j]\n",
    "                   + y[i]*np.dot(X[i, :] - X[j, :],\n",
    "                                 X[j, :]*ay2 - ayx2))\n",
    "                  / ((X[i] - X[j])**2).sum())\n",
    "            if ai < 0:\n",
    "                ai = 0\n",
    "            elif ai > self.C:\n",
    "                ai = self.C\n",
    "            # aj更新\n",
    "            aj = (-ai * y[i] - ay2) * y[j]\n",
    "            if aj < 0:\n",
    "                aj = 0\n",
    "                ai = (-aj*y[j]-ay2)*y[i]\n",
    "            elif aj > self.C:\n",
    "                aj = self.C\n",
    "                ai = (-aj*y[j]-ay2)*y[i]\n",
    "            # 更新したai, ajを使ってay, ayx更新\n",
    "            ay += y[i]*(ai - a[i]) + y[j]*(aj - a[j])\n",
    "            ayx += y[i]*(ai - a[i])*X[i, :] + y[j]*(aj - a[j])*X[j, :]\n",
    "            # 更新してもai変わらなかったら終了\n",
    "            if ai == a[i]:\n",
    "                break\n",
    "            a[i] = ai\n",
    "            a[j] = aj\n",
    "        self.a_ = a\n",
    "        ind = a != 0.\n",
    "        # 決定したa使ってw求める\n",
    "        self.w_ = ((a[ind] * y[ind]).reshape(-1, 1)\n",
    "                   * X[ind, :]).sum(axis=0)\n",
    "        self.w0_ = (y[ind]\n",
    "                    - np.dot(X[ind, :], self.w_)).sum() / ind.sum()\n",
    "\n",
    "    def predict(self, X):\n",
    "        return np.sign(self.w0_ + np.dot(X, self.w_))"
   ]
  },
  {
   "cell_type": "code",
   "execution_count": 4,
   "metadata": {},
   "outputs": [],
   "source": [
    "#点作成\n",
    "X0 = np.random.randn(20, 2)\n",
    "X1 = np.random.randn(20, 2) + np.array([2.5, 3])\n",
    "\n",
    "X = np.r_[X0, X1]\n",
    "y = np.array([1] * 20 + [-1] * 20)"
   ]
  },
  {
   "cell_type": "code",
   "execution_count": 5,
   "metadata": {},
   "outputs": [],
   "source": [
    "# 学習\n",
    "model = LinearSVC(1.0)\n",
    "model.fit(X, y)"
   ]
  },
  {
   "cell_type": "code",
   "execution_count": 7,
   "metadata": {},
   "outputs": [
    {
     "data": {
      "image/png": "[encoded data removed]",
      "text/plain": [
       "<Figure size 432x288 with 1 Axes>"
      ]
     },
     "metadata": {
      "needs_background": "light"
     },
     "output_type": "display_data"
    },
    {
     "name": "stdout",
     "output_type": "stream",
     "text": [
      "[ 0.          0.          1.          0.          0.          0.\n",
      "  0.          0.          0.45506507  0.          0.          0.\n",
      "  0.          0.          1.          0.          0.          0.\n",
      "  0.          0.          0.32816128  0.          0.          0.\n",
      "  0.          0.          0.          0.          0.          0.\n",
      "  0.          0.          0.          0.          1.          0.\n",
      "  1.          0.         -0.          0.12690379]\n",
      "正しく分類できた数: 40 / 40\n"
     ]
    }
   ],
   "source": [
    "np.random.seed(0)\n",
    "\n",
    "plt.scatter(X0[:, 0], X0[:, 1], color=\"b\", marker=\"+\")\n",
    "plt.scatter(X1[:, 0], X1[:, 1], color=\"r\", marker=\"*\")\n",
    "\n",
    "#境界線引く\n",
    "def f(model, x):\n",
    "    return (-model.w0_ - model.w_[0] * x) / model.w_[1]\n",
    "x1 = min(X[:, 0])\n",
    "x2 = max(X[:, 0])\n",
    "plt.plot([x1, x2], [f(model, x1), f(model, x2)], color=\"k\")\n",
    "\n",
    "#サポートベクターに〇つける\n",
    "plt.scatter(X[model.a_ != 0, 0], X[model.a_ != 0, 1],\n",
    "            s=200, color=(0, 0, 0, 0), edgecolor=\"k\", marker=\"o\")\n",
    "\n",
    "plt.show()\n",
    "\n",
    "print(model.a_)\n",
    "print(\"正しく分類できた数:\", (model.predict(X) == y).sum(), \"/\", len(X))"
   ]
  },
  {
   "cell_type": "code",
   "execution_count": null,
   "metadata": {},
   "outputs": [],
   "source": []
  }
 ],
 "metadata": {
  "kernelspec": {
   "display_name": "Python 3",
   "language": "python",
   "name": "python3"
  },
  "language_info": {
   "codemirror_mode": {
    "name": "ipython",
    "version": 3
   },
   "file_extension": ".py",
   "mimetype": "text/x-python",
   "name": "python",
   "nbconvert_exporter": "python",
   "pygments_lexer": "ipython3",
   "version": "3.7.1"
  }
 },
 "nbformat": 4,
 "nbformat_minor": 4
}
