{
 "cells": [
  {
   "cell_type": "markdown",
   "metadata": {},
   "source": [
    "# 概要\n",
    "\n",
    "* 関連する掲示板の一覧を取得し、保存する\n",
    "  * 欲しい情報\n",
    "    * スレタイ\n",
    "    * close日時\n",
    "    * リンク\n",
    "* ココ使う：https://find.open2ch.net/"
   ]
  },
  {
   "cell_type": "markdown",
   "metadata": {},
   "source": [
    "# 初期設定"
   ]
  },
  {
   "cell_type": "code",
   "execution_count": 1,
   "metadata": {},
   "outputs": [],
   "source": [
    "import re\n",
    "import time\n",
    "import datetime\n",
    "import numpy as np\n",
    "import pandas as pd\n",
    "from bs4 import BeautifulSoup\n",
    "import requests"
   ]
  },
  {
   "cell_type": "markdown",
   "metadata": {},
   "source": [
    "# 各種関数準備"
   ]
  },
  {
   "cell_type": "code",
   "execution_count": 2,
   "metadata": {},
   "outputs": [
    {
     "data": {
      "text/plain": [
       "datetime.datetime(2020, 11, 13, 10, 47)"
      ]
     },
     "execution_count": 2,
     "metadata": {},
     "output_type": "execute_result"
    }
   ],
   "source": [
    "# 文字列から日付のみ抽出し、datetime型にして返す関数\n",
    "def format_date(str_date):\n",
    "    m = re.search(r'[0-9]{4}/[0-9]{2}/[0-9]{2} [0-9]{2}:[0-9]{2}', str_date)\n",
    "    return datetime.datetime.strptime(m.group(), '%Y/%m/%d %H:%M')\n",
    "\n",
    "format_date('携帯電話ゲー\\n2020/11/13 10:47')"
   ]
  },
  {
   "cell_type": "code",
   "execution_count": 8,
   "metadata": {},
   "outputs": [],
   "source": [
    "# 検索ページのurlをもらったら、タイトル一覧、日付一覧、リンク一覧を返す関数\n",
    "def get_boards_info(url):\n",
    "    # ページの情報取得\n",
    "    time.sleep(1)\n",
    "    html = requests.get(url).text\n",
    "    soup = BeautifulSoup(html,'html.parser')\n",
    "    \n",
    "    # 各掲示板の情報\n",
    "    results = soup.find_all(class_='result')\n",
    "    # タイトル一覧\n",
    "    subjects = [result.find(class_='subject').find('a').text for result in results]\n",
    "    # 日付一覧\n",
    "    dates = [result.find(class_='content').text for result in results]\n",
    "    # リンク一覧\n",
    "    links = [result.find(class_='subject').find('a').get('href') for result in results]\n",
    "    \n",
    "    # データととのえる\n",
    "    # 日付を文字列からdatetime型へ\n",
    "    dates = list(map(format_date, dates))\n",
    "    # リンク末尾のl50を消す\n",
    "    links = list(map(lambda x: re.match(r'.+(?=l50)', x).group(), links))\n",
    "    \n",
    "    return {\n",
    "        'スレタイ': subjects,\n",
    "        '日付': dates,\n",
    "        'リンク': links,\n",
    "    }"
   ]
  },
  {
   "cell_type": "code",
   "execution_count": 16,
   "metadata": {},
   "outputs": [],
   "source": [
    "# 検索ページのurlをもらったら、タイトル、日付、リンク一覧のデータフレームを返す関数\n",
    "def get_boards_dataframe(y, url):\n",
    "    # 情報取得\n",
    "    boards_info = get_boards_info(url)\n",
    "    # データフレーム作る\n",
    "    df = pd.DataFrame(boards_info)\n",
    "    return df"
   ]
  },
  {
   "cell_type": "markdown",
   "metadata": {},
   "source": [
    "# データ取得"
   ]
  },
  {
   "cell_type": "markdown",
   "metadata": {},
   "source": [
    "## 各年の最後のスレタイ確認（xx人目）"
   ]
  },
  {
   "cell_type": "code",
   "execution_count": 10,
   "metadata": {},
   "outputs": [
    {
     "data": {
      "text/plain": [
       "{2014: 'https://find.open2ch.net/?bbs=appli&t=&q=%EF%BD%BC%EF%BE%9D%EF%BE%83%EF%BE%9E%EF%BE%9A%EF%BE%97%EF%BD%B6%EF%BE%9E%EF%BD%B0%EF%BE%99%EF%BD%BD%EF%BE%9E+%E4%BA%BA%E7%9B%AE&wh=&kako=checked&d=2014',\n",
       " 2015: 'https://find.open2ch.net/?bbs=appli&t=&q=%EF%BD%BC%EF%BE%9D%EF%BE%83%EF%BE%9E%EF%BE%9A%EF%BE%97%EF%BD%B6%EF%BE%9E%EF%BD%B0%EF%BE%99%EF%BD%BD%EF%BE%9E+%E4%BA%BA%E7%9B%AE&wh=&kako=checked&d=2015',\n",
       " 2016: 'https://find.open2ch.net/?bbs=appli&t=&q=%EF%BD%BC%EF%BE%9D%EF%BE%83%EF%BE%9E%EF%BE%9A%EF%BE%97%EF%BD%B6%EF%BE%9E%EF%BD%B0%EF%BE%99%EF%BD%BD%EF%BE%9E+%E4%BA%BA%E7%9B%AE&wh=&kako=checked&d=2016',\n",
       " 2017: 'https://find.open2ch.net/?bbs=appli&t=&q=%EF%BD%BC%EF%BE%9D%EF%BE%83%EF%BE%9E%EF%BE%9A%EF%BE%97%EF%BD%B6%EF%BE%9E%EF%BD%B0%EF%BE%99%EF%BD%BD%EF%BE%9E+%E4%BA%BA%E7%9B%AE&wh=&kako=checked&d=2017',\n",
       " 2018: 'https://find.open2ch.net/?bbs=appli&t=&q=%EF%BD%BC%EF%BE%9D%EF%BE%83%EF%BE%9E%EF%BE%9A%EF%BE%97%EF%BD%B6%EF%BE%9E%EF%BD%B0%EF%BE%99%EF%BD%BD%EF%BE%9E+%E4%BA%BA%E7%9B%AE&wh=&kako=checked&d=2018',\n",
       " 2019: 'https://find.open2ch.net/?bbs=appli&t=&q=%EF%BD%BC%EF%BE%9D%EF%BE%83%EF%BE%9E%EF%BE%9A%EF%BE%97%EF%BD%B6%EF%BE%9E%EF%BD%B0%EF%BE%99%EF%BD%BD%EF%BE%9E+%E4%BA%BA%E7%9B%AE&wh=&kako=checked&d=2019',\n",
       " 2020: 'https://find.open2ch.net/?bbs=appli&t=&q=%EF%BD%BC%EF%BE%9D%EF%BE%83%EF%BE%9E%EF%BE%9A%EF%BE%97%EF%BD%B6%EF%BE%9E%EF%BD%B0%EF%BE%99%EF%BD%BD%EF%BE%9E&wh=&d='}"
      ]
     },
     "execution_count": 10,
     "metadata": {},
     "output_type": "execute_result"
    }
   ],
   "source": [
    "# urlのリストつくる\n",
    "def make_url(y):\n",
    "    return f'https://find.open2ch.net/?bbs=appli&t=&q=%EF%BD%BC%EF%BE%9D%EF%BE%83%EF%BE%9E%EF%BE%9A%EF%BE%97%EF%BD%B6%EF%BE%9E%EF%BD%B0%EF%BE%99%EF%BD%BD%EF%BE%9E+%E4%BA%BA%E7%9B%AE&wh=&kako=checked&d={y}'\n",
    "\n",
    "urls = {y: make_url(y) for y in [2014, 2015, 2016, 2017, 2018, 2019]}\n",
    "# 最新年だけは年でフィルタかけられない\n",
    "urls[2020] = 'https://find.open2ch.net/?bbs=appli&t=&q=%EF%BD%BC%EF%BE%9D%EF%BE%83%EF%BE%9E%EF%BE%9A%EF%BE%97%EF%BD%B6%EF%BE%9E%EF%BD%B0%EF%BE%99%EF%BD%BD%EF%BE%9E&wh=&d='\n",
    "urls"
   ]
  },
  {
   "cell_type": "code",
   "execution_count": null,
   "metadata": {},
   "outputs": [],
   "source": [
    "for y, url in urls.items():\n",
    "    print(y, url)\n",
    "    # データフレーム入手\n",
    "    df = get_boards_dataframe(y, url)\n",
    "    display(df.head())"
   ]
  },
  {
   "cell_type": "markdown",
   "metadata": {},
   "source": [
    "| year |  last(x人目) |\n",
    "|-----:|------:|\n",
    "| 2014 |   377 |\n",
    "| 2015 |  1907 |\n",
    "| 2016 |  5170 |\n",
    "| 2017 |  8900 |\n",
    "| 2018 | 12658 |\n",
    "| 2019 | 17168 |\n",
    "| 2020 | 21149? |\n"
   ]
  },
  {
   "cell_type": "markdown",
   "metadata": {},
   "source": [
    "## 年、x人目を指定しながら検索していく"
   ]
  },
  {
   "cell_type": "markdown",
   "metadata": {},
   "source": [
    "### 関数準備"
   ]
  },
  {
   "cell_type": "code",
   "execution_count": 11,
   "metadata": {},
   "outputs": [],
   "source": [
    "# y年、num人目で検索するurlをつくる関数\n",
    "def make_url_num(y, num):\n",
    "    # 2020年は年指定して検索できない（2020/11/15時点）\n",
    "    if y == 2020:\n",
    "        return f'https://find.open2ch.net/?bbs=appli&t=&q=%EF%BD%BC%EF%BE%9D%EF%BE%83%EF%BE%9E%EF%BE%9A%EF%BE%97%EF%BD%B6%EF%BE%9E%EF%BD%B0%EF%BE%99%EF%BD%BD%EF%BE%9E+{num}%E4%BA%BA%E7%9B%AE&wh=&d='\n",
    "    else:\n",
    "        return f'https://find.open2ch.net/?bbs=appli&t=&q=%EF%BD%BC%EF%BE%9D%EF%BE%83%EF%BE%9E%EF%BE%9A%EF%BE%97%EF%BD%B6%EF%BE%9E%EF%BD%B0%EF%BE%99%EF%BD%BD%EF%BE%9E+{num}%E4%BA%BA%E7%9B%AE&wh=&kako=checked&d={y}'    "
   ]
  },
  {
   "cell_type": "code",
   "execution_count": 18,
   "metadata": {},
   "outputs": [],
   "source": [
    "# 年を指定したら、タイトル、日付、リンク一覧のデータフレームを保存する関数\n",
    "def save_boards_list(y, years):\n",
    "    dfs = []\n",
    "    for num in years[y]:\n",
    "        # 進行状況\n",
    "        if num % 100 == 0:\n",
    "            print(num)\n",
    "        # 検索するurl\n",
    "        url = make_url_num(y, num)\n",
    "        # データフレーム入手\n",
    "        dfs.append(get_boards_dataframe(y, url))\n",
    "\n",
    "    # 結合\n",
    "    df = pd.concat(dfs, axis=0, ignore_index=True)\n",
    "    # 年でフィルタ\n",
    "    df = df[df['日付'].apply(lambda x: x.year) == y]\n",
    "    # スレタイでフィルタ\n",
    "    df = df[df['スレタイ'].str.match('【mobage】.+ｼﾝﾃﾞﾚﾗｶﾞｰﾙｽﾞ.+人目.+')]\n",
    "    # 重複があったら削除\n",
    "    df.drop_duplicates(inplace=True)\n",
    "    print('保存')\n",
    "    df.to_pickle('data/' + f'list_{y}.pkl')"
   ]
  },
  {
   "cell_type": "markdown",
   "metadata": {},
   "source": [
    "### データ取得"
   ]
  },
  {
   "cell_type": "code",
   "execution_count": 13,
   "metadata": {},
   "outputs": [],
   "source": [
    "# 各年の最終スレタイ（x人目）\n",
    "ends = {\n",
    "    2013: 0,\n",
    "    2014: 377,\n",
    "    2015: 1907,\n",
    "    2016: 5170,\n",
    "    2017: 8900,\n",
    "    2018: 12658,\n",
    "    2019: 17168,\n",
    "    2020: 21149,\n",
    "}"
   ]
  },
  {
   "cell_type": "code",
   "execution_count": 14,
   "metadata": {},
   "outputs": [
    {
     "data": {
      "text/plain": [
       "{2014: range(1, 378),\n",
       " 2015: range(378, 1908),\n",
       " 2016: range(1908, 5171),\n",
       " 2017: range(5171, 8901),\n",
       " 2018: range(8901, 12659),\n",
       " 2019: range(12659, 17169),\n",
       " 2020: range(17169, 21150)}"
      ]
     },
     "execution_count": 14,
     "metadata": {},
     "output_type": "execute_result"
    }
   ],
   "source": [
    "# 年ごとの検索範囲設定\n",
    "years = {y: range(ends[y-1]+1, ends[y] + 1) for y in range(2014, 2021)}\n",
    "years"
   ]
  },
  {
   "cell_type": "code",
   "execution_count": 19,
   "metadata": {},
   "outputs": [
    {
     "name": "stdout",
     "output_type": "stream",
     "text": [
      "12700\n",
      "12800\n",
      "12900\n",
      "13000\n",
      "13100\n",
      "13200\n",
      "13300\n",
      "13400\n",
      "13500\n",
      "13600\n",
      "13700\n",
      "13800\n",
      "13900\n",
      "14000\n",
      "14100\n",
      "14200\n",
      "14300\n",
      "14400\n",
      "14500\n",
      "14600\n",
      "14700\n",
      "14800\n",
      "14900\n",
      "15000\n",
      "15100\n",
      "15200\n",
      "15300\n",
      "15400\n",
      "15500\n",
      "15600\n",
      "15700\n",
      "15800\n",
      "15900\n",
      "16000\n",
      "16100\n",
      "16200\n",
      "16300\n",
      "16400\n",
      "16500\n",
      "16600\n",
      "16700\n",
      "16800\n",
      "16900\n",
      "17000\n",
      "17100\n",
      "保存\n"
     ]
    }
   ],
   "source": [
    "y = 2019\n",
    "save_boards_list(y, years)"
   ]
  },
  {
   "cell_type": "markdown",
   "metadata": {},
   "source": [
    "# 保存したデータ確認"
   ]
  },
  {
   "cell_type": "code",
   "execution_count": 26,
   "metadata": {},
   "outputs": [
    {
     "data": {
      "text/html": [
       "<div>\n",
       "<style scoped>\n",
       "    .dataframe tbody tr th:only-of-type {\n",
       "        vertical-align: middle;\n",
       "    }\n",
       "\n",
       "    .dataframe tbody tr th {\n",
       "        vertical-align: top;\n",
       "    }\n",
       "\n",
       "    .dataframe thead th {\n",
       "        text-align: right;\n",
       "    }\n",
       "</style>\n",
       "<table border=\"1\" class=\"dataframe\">\n",
       "  <thead>\n",
       "    <tr style=\"text-align: right;\">\n",
       "      <th></th>\n",
       "      <th>スレタイ</th>\n",
       "      <th>日付</th>\n",
       "      <th>リンク</th>\n",
       "    </tr>\n",
       "  </thead>\n",
       "  <tbody>\n",
       "    <tr>\n",
       "      <th>0</th>\n",
       "      <td>【mobage】アイドルマスターｼﾝﾃﾞﾚﾗｶﾞｰﾙｽﾞ12671人目(あけおめサチコンマ)...</td>\n",
       "      <td>2019-01-01 00:10:00</td>\n",
       "      <td>https://hayabusa3.open2ch.net/test/read.cgi/ap...</td>\n",
       "    </tr>\n",
       "    <tr>\n",
       "      <th>1</th>\n",
       "      <td>【mobage】アイドルマスターｼﾝﾃﾞﾚﾗｶﾞｰﾙｽﾞ12672人目(カワイイサチコンマ)...</td>\n",
       "      <td>2019-01-01 01:07:00</td>\n",
       "      <td>https://hayabusa3.open2ch.net/test/read.cgi/ap...</td>\n",
       "    </tr>\n",
       "    <tr>\n",
       "      <th>2</th>\n",
       "      <td>【mobage】アイドルマスターｼﾝﾃﾞﾚﾗｶﾞｰﾙｽﾞ12673人目(カワイイサチコンマ)...</td>\n",
       "      <td>2019-01-01 02:26:00</td>\n",
       "      <td>https://hayabusa3.open2ch.net/test/read.cgi/ap...</td>\n",
       "    </tr>\n",
       "    <tr>\n",
       "      <th>3</th>\n",
       "      <td>【mobage】アイドルマスターｼﾝﾃﾞﾚﾗｶﾞｰﾙｽﾞ12674人目(1000)</td>\n",
       "      <td>2019-01-01 07:55:00</td>\n",
       "      <td>https://hayabusa3.open2ch.net/test/read.cgi/ap...</td>\n",
       "    </tr>\n",
       "    <tr>\n",
       "      <th>4</th>\n",
       "      <td>【mobage】アイドルマスターｼﾝﾃﾞﾚﾗｶﾞｰﾙｽﾞ12675人目(1000)</td>\n",
       "      <td>2019-01-01 10:07:00</td>\n",
       "      <td>https://hayabusa3.open2ch.net/test/read.cgi/ap...</td>\n",
       "    </tr>\n",
       "    <tr>\n",
       "      <th>...</th>\n",
       "      <td>...</td>\n",
       "      <td>...</td>\n",
       "      <td>...</td>\n",
       "    </tr>\n",
       "    <tr>\n",
       "      <th>4478</th>\n",
       "      <td>【mobage】アイドルマスターｼﾝﾃﾞﾚﾗｶﾞｰﾙｽﾞ17164人目(1000)</td>\n",
       "      <td>2019-12-31 20:29:00</td>\n",
       "      <td>https://hayabusa3.open2ch.net/test/read.cgi/ap...</td>\n",
       "    </tr>\n",
       "    <tr>\n",
       "      <th>4479</th>\n",
       "      <td>【mobage】アイドルマスターｼﾝﾃﾞﾚﾗｶﾞｰﾙｽﾞ17165人目【ご報告乱舞コンマ】(...</td>\n",
       "      <td>2019-12-31 21:12:00</td>\n",
       "      <td>https://hayabusa3.open2ch.net/test/read.cgi/ap...</td>\n",
       "    </tr>\n",
       "    <tr>\n",
       "      <th>4480</th>\n",
       "      <td>【mobage】アイドルマスターｼﾝﾃﾞﾚﾗｶﾞｰﾙｽﾞ17166人目【比奈コンマ】(1001)</td>\n",
       "      <td>2019-12-31 21:57:00</td>\n",
       "      <td>https://hayabusa3.open2ch.net/test/read.cgi/ap...</td>\n",
       "    </tr>\n",
       "    <tr>\n",
       "      <th>4481</th>\n",
       "      <td>【mobage】アイドルマスターｼﾝﾃﾞﾚﾗｶﾞｰﾙｽﾞ17167人目【今年最後の比奈コンマ...</td>\n",
       "      <td>2019-12-31 23:01:00</td>\n",
       "      <td>https://hayabusa3.open2ch.net/test/read.cgi/ap...</td>\n",
       "    </tr>\n",
       "    <tr>\n",
       "      <th>4482</th>\n",
       "      <td>【mobage】アイドルマスターｼﾝﾃﾞﾚﾗｶﾞｰﾙｽﾞ17168人目【年越しコンマ】(1001)</td>\n",
       "      <td>2019-12-31 23:55:00</td>\n",
       "      <td>https://hayabusa3.open2ch.net/test/read.cgi/ap...</td>\n",
       "    </tr>\n",
       "  </tbody>\n",
       "</table>\n",
       "<p>4283 rows × 3 columns</p>\n",
       "</div>"
      ],
      "text/plain": [
       "                                                   スレタイ                  日付  \\\n",
       "0     【mobage】アイドルマスターｼﾝﾃﾞﾚﾗｶﾞｰﾙｽﾞ12671人目(あけおめサチコンマ)... 2019-01-01 00:10:00   \n",
       "1     【mobage】アイドルマスターｼﾝﾃﾞﾚﾗｶﾞｰﾙｽﾞ12672人目(カワイイサチコンマ)... 2019-01-01 01:07:00   \n",
       "2     【mobage】アイドルマスターｼﾝﾃﾞﾚﾗｶﾞｰﾙｽﾞ12673人目(カワイイサチコンマ)... 2019-01-01 02:26:00   \n",
       "3             【mobage】アイドルマスターｼﾝﾃﾞﾚﾗｶﾞｰﾙｽﾞ12674人目(1000) 2019-01-01 07:55:00   \n",
       "4             【mobage】アイドルマスターｼﾝﾃﾞﾚﾗｶﾞｰﾙｽﾞ12675人目(1000) 2019-01-01 10:07:00   \n",
       "...                                                 ...                 ...   \n",
       "4478          【mobage】アイドルマスターｼﾝﾃﾞﾚﾗｶﾞｰﾙｽﾞ17164人目(1000) 2019-12-31 20:29:00   \n",
       "4479  【mobage】アイドルマスターｼﾝﾃﾞﾚﾗｶﾞｰﾙｽﾞ17165人目【ご報告乱舞コンマ】(... 2019-12-31 21:12:00   \n",
       "4480   【mobage】アイドルマスターｼﾝﾃﾞﾚﾗｶﾞｰﾙｽﾞ17166人目【比奈コンマ】(1001) 2019-12-31 21:57:00   \n",
       "4481  【mobage】アイドルマスターｼﾝﾃﾞﾚﾗｶﾞｰﾙｽﾞ17167人目【今年最後の比奈コンマ... 2019-12-31 23:01:00   \n",
       "4482  【mobage】アイドルマスターｼﾝﾃﾞﾚﾗｶﾞｰﾙｽﾞ17168人目【年越しコンマ】(1001) 2019-12-31 23:55:00   \n",
       "\n",
       "                                                    リンク  \n",
       "0     https://hayabusa3.open2ch.net/test/read.cgi/ap...  \n",
       "1     https://hayabusa3.open2ch.net/test/read.cgi/ap...  \n",
       "2     https://hayabusa3.open2ch.net/test/read.cgi/ap...  \n",
       "3     https://hayabusa3.open2ch.net/test/read.cgi/ap...  \n",
       "4     https://hayabusa3.open2ch.net/test/read.cgi/ap...  \n",
       "...                                                 ...  \n",
       "4478  https://hayabusa3.open2ch.net/test/read.cgi/ap...  \n",
       "4479  https://hayabusa3.open2ch.net/test/read.cgi/ap...  \n",
       "4480  https://hayabusa3.open2ch.net/test/read.cgi/ap...  \n",
       "4481  https://hayabusa3.open2ch.net/test/read.cgi/ap...  \n",
       "4482  https://hayabusa3.open2ch.net/test/read.cgi/ap...  \n",
       "\n",
       "[4283 rows x 3 columns]"
      ]
     },
     "execution_count": 26,
     "metadata": {},
     "output_type": "execute_result"
    }
   ],
   "source": [
    "# 確認\n",
    "y = 2019\n",
    "df = pd.read_pickle('data/' + f'list_{y}.pkl')\n",
    "df"
   ]
  },
  {
   "cell_type": "code",
   "execution_count": 27,
   "metadata": {},
   "outputs": [
    {
     "data": {
      "text/html": [
       "<div>\n",
       "<style scoped>\n",
       "    .dataframe tbody tr th:only-of-type {\n",
       "        vertical-align: middle;\n",
       "    }\n",
       "\n",
       "    .dataframe tbody tr th {\n",
       "        vertical-align: top;\n",
       "    }\n",
       "\n",
       "    .dataframe thead th {\n",
       "        text-align: right;\n",
       "    }\n",
       "</style>\n",
       "<table border=\"1\" class=\"dataframe\">\n",
       "  <thead>\n",
       "    <tr style=\"text-align: right;\">\n",
       "      <th></th>\n",
       "      <th>スレタイ</th>\n",
       "      <th>日付</th>\n",
       "      <th>リンク</th>\n",
       "      <th>month</th>\n",
       "    </tr>\n",
       "  </thead>\n",
       "  <tbody>\n",
       "    <tr>\n",
       "      <th>0</th>\n",
       "      <td>【mobage】アイドルマスターｼﾝﾃﾞﾚﾗｶﾞｰﾙｽﾞ12671人目(あけおめサチコンマ)...</td>\n",
       "      <td>2019-01-01 00:10:00</td>\n",
       "      <td>https://hayabusa3.open2ch.net/test/read.cgi/ap...</td>\n",
       "      <td>1</td>\n",
       "    </tr>\n",
       "    <tr>\n",
       "      <th>1</th>\n",
       "      <td>【mobage】アイドルマスターｼﾝﾃﾞﾚﾗｶﾞｰﾙｽﾞ12672人目(カワイイサチコンマ)...</td>\n",
       "      <td>2019-01-01 01:07:00</td>\n",
       "      <td>https://hayabusa3.open2ch.net/test/read.cgi/ap...</td>\n",
       "      <td>1</td>\n",
       "    </tr>\n",
       "    <tr>\n",
       "      <th>2</th>\n",
       "      <td>【mobage】アイドルマスターｼﾝﾃﾞﾚﾗｶﾞｰﾙｽﾞ12673人目(カワイイサチコンマ)...</td>\n",
       "      <td>2019-01-01 02:26:00</td>\n",
       "      <td>https://hayabusa3.open2ch.net/test/read.cgi/ap...</td>\n",
       "      <td>1</td>\n",
       "    </tr>\n",
       "    <tr>\n",
       "      <th>3</th>\n",
       "      <td>【mobage】アイドルマスターｼﾝﾃﾞﾚﾗｶﾞｰﾙｽﾞ12674人目(1000)</td>\n",
       "      <td>2019-01-01 07:55:00</td>\n",
       "      <td>https://hayabusa3.open2ch.net/test/read.cgi/ap...</td>\n",
       "      <td>1</td>\n",
       "    </tr>\n",
       "    <tr>\n",
       "      <th>4</th>\n",
       "      <td>【mobage】アイドルマスターｼﾝﾃﾞﾚﾗｶﾞｰﾙｽﾞ12675人目(1000)</td>\n",
       "      <td>2019-01-01 10:07:00</td>\n",
       "      <td>https://hayabusa3.open2ch.net/test/read.cgi/ap...</td>\n",
       "      <td>1</td>\n",
       "    </tr>\n",
       "    <tr>\n",
       "      <th>...</th>\n",
       "      <td>...</td>\n",
       "      <td>...</td>\n",
       "      <td>...</td>\n",
       "      <td>...</td>\n",
       "    </tr>\n",
       "    <tr>\n",
       "      <th>4478</th>\n",
       "      <td>【mobage】アイドルマスターｼﾝﾃﾞﾚﾗｶﾞｰﾙｽﾞ17164人目(1000)</td>\n",
       "      <td>2019-12-31 20:29:00</td>\n",
       "      <td>https://hayabusa3.open2ch.net/test/read.cgi/ap...</td>\n",
       "      <td>12</td>\n",
       "    </tr>\n",
       "    <tr>\n",
       "      <th>4479</th>\n",
       "      <td>【mobage】アイドルマスターｼﾝﾃﾞﾚﾗｶﾞｰﾙｽﾞ17165人目【ご報告乱舞コンマ】(...</td>\n",
       "      <td>2019-12-31 21:12:00</td>\n",
       "      <td>https://hayabusa3.open2ch.net/test/read.cgi/ap...</td>\n",
       "      <td>12</td>\n",
       "    </tr>\n",
       "    <tr>\n",
       "      <th>4480</th>\n",
       "      <td>【mobage】アイドルマスターｼﾝﾃﾞﾚﾗｶﾞｰﾙｽﾞ17166人目【比奈コンマ】(1001)</td>\n",
       "      <td>2019-12-31 21:57:00</td>\n",
       "      <td>https://hayabusa3.open2ch.net/test/read.cgi/ap...</td>\n",
       "      <td>12</td>\n",
       "    </tr>\n",
       "    <tr>\n",
       "      <th>4481</th>\n",
       "      <td>【mobage】アイドルマスターｼﾝﾃﾞﾚﾗｶﾞｰﾙｽﾞ17167人目【今年最後の比奈コンマ...</td>\n",
       "      <td>2019-12-31 23:01:00</td>\n",
       "      <td>https://hayabusa3.open2ch.net/test/read.cgi/ap...</td>\n",
       "      <td>12</td>\n",
       "    </tr>\n",
       "    <tr>\n",
       "      <th>4482</th>\n",
       "      <td>【mobage】アイドルマスターｼﾝﾃﾞﾚﾗｶﾞｰﾙｽﾞ17168人目【年越しコンマ】(1001)</td>\n",
       "      <td>2019-12-31 23:55:00</td>\n",
       "      <td>https://hayabusa3.open2ch.net/test/read.cgi/ap...</td>\n",
       "      <td>12</td>\n",
       "    </tr>\n",
       "  </tbody>\n",
       "</table>\n",
       "<p>4283 rows × 4 columns</p>\n",
       "</div>"
      ],
      "text/plain": [
       "                                                   スレタイ                  日付  \\\n",
       "0     【mobage】アイドルマスターｼﾝﾃﾞﾚﾗｶﾞｰﾙｽﾞ12671人目(あけおめサチコンマ)... 2019-01-01 00:10:00   \n",
       "1     【mobage】アイドルマスターｼﾝﾃﾞﾚﾗｶﾞｰﾙｽﾞ12672人目(カワイイサチコンマ)... 2019-01-01 01:07:00   \n",
       "2     【mobage】アイドルマスターｼﾝﾃﾞﾚﾗｶﾞｰﾙｽﾞ12673人目(カワイイサチコンマ)... 2019-01-01 02:26:00   \n",
       "3             【mobage】アイドルマスターｼﾝﾃﾞﾚﾗｶﾞｰﾙｽﾞ12674人目(1000) 2019-01-01 07:55:00   \n",
       "4             【mobage】アイドルマスターｼﾝﾃﾞﾚﾗｶﾞｰﾙｽﾞ12675人目(1000) 2019-01-01 10:07:00   \n",
       "...                                                 ...                 ...   \n",
       "4478          【mobage】アイドルマスターｼﾝﾃﾞﾚﾗｶﾞｰﾙｽﾞ17164人目(1000) 2019-12-31 20:29:00   \n",
       "4479  【mobage】アイドルマスターｼﾝﾃﾞﾚﾗｶﾞｰﾙｽﾞ17165人目【ご報告乱舞コンマ】(... 2019-12-31 21:12:00   \n",
       "4480   【mobage】アイドルマスターｼﾝﾃﾞﾚﾗｶﾞｰﾙｽﾞ17166人目【比奈コンマ】(1001) 2019-12-31 21:57:00   \n",
       "4481  【mobage】アイドルマスターｼﾝﾃﾞﾚﾗｶﾞｰﾙｽﾞ17167人目【今年最後の比奈コンマ... 2019-12-31 23:01:00   \n",
       "4482  【mobage】アイドルマスターｼﾝﾃﾞﾚﾗｶﾞｰﾙｽﾞ17168人目【年越しコンマ】(1001) 2019-12-31 23:55:00   \n",
       "\n",
       "                                                    リンク  month  \n",
       "0     https://hayabusa3.open2ch.net/test/read.cgi/ap...      1  \n",
       "1     https://hayabusa3.open2ch.net/test/read.cgi/ap...      1  \n",
       "2     https://hayabusa3.open2ch.net/test/read.cgi/ap...      1  \n",
       "3     https://hayabusa3.open2ch.net/test/read.cgi/ap...      1  \n",
       "4     https://hayabusa3.open2ch.net/test/read.cgi/ap...      1  \n",
       "...                                                 ...    ...  \n",
       "4478  https://hayabusa3.open2ch.net/test/read.cgi/ap...     12  \n",
       "4479  https://hayabusa3.open2ch.net/test/read.cgi/ap...     12  \n",
       "4480  https://hayabusa3.open2ch.net/test/read.cgi/ap...     12  \n",
       "4481  https://hayabusa3.open2ch.net/test/read.cgi/ap...     12  \n",
       "4482  https://hayabusa3.open2ch.net/test/read.cgi/ap...     12  \n",
       "\n",
       "[4283 rows x 4 columns]"
      ]
     },
     "execution_count": 27,
     "metadata": {},
     "output_type": "execute_result"
    }
   ],
   "source": [
    "df['month'] = df['日付'].apply(lambda x: x.month)\n",
    "df"
   ]
  },
  {
   "cell_type": "code",
   "execution_count": 28,
   "metadata": {},
   "outputs": [
    {
     "data": {
      "text/html": [
       "<div>\n",
       "<style scoped>\n",
       "    .dataframe tbody tr th:only-of-type {\n",
       "        vertical-align: middle;\n",
       "    }\n",
       "\n",
       "    .dataframe tbody tr th {\n",
       "        vertical-align: top;\n",
       "    }\n",
       "\n",
       "    .dataframe thead th {\n",
       "        text-align: right;\n",
       "    }\n",
       "</style>\n",
       "<table border=\"1\" class=\"dataframe\">\n",
       "  <thead>\n",
       "    <tr style=\"text-align: right;\">\n",
       "      <th></th>\n",
       "      <th>スレタイ</th>\n",
       "      <th>日付</th>\n",
       "      <th>リンク</th>\n",
       "      <th>month</th>\n",
       "      <th>day</th>\n",
       "    </tr>\n",
       "  </thead>\n",
       "  <tbody>\n",
       "    <tr>\n",
       "      <th>0</th>\n",
       "      <td>【mobage】アイドルマスターｼﾝﾃﾞﾚﾗｶﾞｰﾙｽﾞ12671人目(あけおめサチコンマ)...</td>\n",
       "      <td>2019-01-01 00:10:00</td>\n",
       "      <td>https://hayabusa3.open2ch.net/test/read.cgi/ap...</td>\n",
       "      <td>1</td>\n",
       "      <td>1</td>\n",
       "    </tr>\n",
       "    <tr>\n",
       "      <th>1</th>\n",
       "      <td>【mobage】アイドルマスターｼﾝﾃﾞﾚﾗｶﾞｰﾙｽﾞ12672人目(カワイイサチコンマ)...</td>\n",
       "      <td>2019-01-01 01:07:00</td>\n",
       "      <td>https://hayabusa3.open2ch.net/test/read.cgi/ap...</td>\n",
       "      <td>1</td>\n",
       "      <td>1</td>\n",
       "    </tr>\n",
       "    <tr>\n",
       "      <th>2</th>\n",
       "      <td>【mobage】アイドルマスターｼﾝﾃﾞﾚﾗｶﾞｰﾙｽﾞ12673人目(カワイイサチコンマ)...</td>\n",
       "      <td>2019-01-01 02:26:00</td>\n",
       "      <td>https://hayabusa3.open2ch.net/test/read.cgi/ap...</td>\n",
       "      <td>1</td>\n",
       "      <td>1</td>\n",
       "    </tr>\n",
       "    <tr>\n",
       "      <th>3</th>\n",
       "      <td>【mobage】アイドルマスターｼﾝﾃﾞﾚﾗｶﾞｰﾙｽﾞ12674人目(1000)</td>\n",
       "      <td>2019-01-01 07:55:00</td>\n",
       "      <td>https://hayabusa3.open2ch.net/test/read.cgi/ap...</td>\n",
       "      <td>1</td>\n",
       "      <td>1</td>\n",
       "    </tr>\n",
       "    <tr>\n",
       "      <th>4</th>\n",
       "      <td>【mobage】アイドルマスターｼﾝﾃﾞﾚﾗｶﾞｰﾙｽﾞ12675人目(1000)</td>\n",
       "      <td>2019-01-01 10:07:00</td>\n",
       "      <td>https://hayabusa3.open2ch.net/test/read.cgi/ap...</td>\n",
       "      <td>1</td>\n",
       "      <td>1</td>\n",
       "    </tr>\n",
       "    <tr>\n",
       "      <th>...</th>\n",
       "      <td>...</td>\n",
       "      <td>...</td>\n",
       "      <td>...</td>\n",
       "      <td>...</td>\n",
       "      <td>...</td>\n",
       "    </tr>\n",
       "    <tr>\n",
       "      <th>4478</th>\n",
       "      <td>【mobage】アイドルマスターｼﾝﾃﾞﾚﾗｶﾞｰﾙｽﾞ17164人目(1000)</td>\n",
       "      <td>2019-12-31 20:29:00</td>\n",
       "      <td>https://hayabusa3.open2ch.net/test/read.cgi/ap...</td>\n",
       "      <td>12</td>\n",
       "      <td>31</td>\n",
       "    </tr>\n",
       "    <tr>\n",
       "      <th>4479</th>\n",
       "      <td>【mobage】アイドルマスターｼﾝﾃﾞﾚﾗｶﾞｰﾙｽﾞ17165人目【ご報告乱舞コンマ】(...</td>\n",
       "      <td>2019-12-31 21:12:00</td>\n",
       "      <td>https://hayabusa3.open2ch.net/test/read.cgi/ap...</td>\n",
       "      <td>12</td>\n",
       "      <td>31</td>\n",
       "    </tr>\n",
       "    <tr>\n",
       "      <th>4480</th>\n",
       "      <td>【mobage】アイドルマスターｼﾝﾃﾞﾚﾗｶﾞｰﾙｽﾞ17166人目【比奈コンマ】(1001)</td>\n",
       "      <td>2019-12-31 21:57:00</td>\n",
       "      <td>https://hayabusa3.open2ch.net/test/read.cgi/ap...</td>\n",
       "      <td>12</td>\n",
       "      <td>31</td>\n",
       "    </tr>\n",
       "    <tr>\n",
       "      <th>4481</th>\n",
       "      <td>【mobage】アイドルマスターｼﾝﾃﾞﾚﾗｶﾞｰﾙｽﾞ17167人目【今年最後の比奈コンマ...</td>\n",
       "      <td>2019-12-31 23:01:00</td>\n",
       "      <td>https://hayabusa3.open2ch.net/test/read.cgi/ap...</td>\n",
       "      <td>12</td>\n",
       "      <td>31</td>\n",
       "    </tr>\n",
       "    <tr>\n",
       "      <th>4482</th>\n",
       "      <td>【mobage】アイドルマスターｼﾝﾃﾞﾚﾗｶﾞｰﾙｽﾞ17168人目【年越しコンマ】(1001)</td>\n",
       "      <td>2019-12-31 23:55:00</td>\n",
       "      <td>https://hayabusa3.open2ch.net/test/read.cgi/ap...</td>\n",
       "      <td>12</td>\n",
       "      <td>31</td>\n",
       "    </tr>\n",
       "  </tbody>\n",
       "</table>\n",
       "<p>4283 rows × 5 columns</p>\n",
       "</div>"
      ],
      "text/plain": [
       "                                                   スレタイ                  日付  \\\n",
       "0     【mobage】アイドルマスターｼﾝﾃﾞﾚﾗｶﾞｰﾙｽﾞ12671人目(あけおめサチコンマ)... 2019-01-01 00:10:00   \n",
       "1     【mobage】アイドルマスターｼﾝﾃﾞﾚﾗｶﾞｰﾙｽﾞ12672人目(カワイイサチコンマ)... 2019-01-01 01:07:00   \n",
       "2     【mobage】アイドルマスターｼﾝﾃﾞﾚﾗｶﾞｰﾙｽﾞ12673人目(カワイイサチコンマ)... 2019-01-01 02:26:00   \n",
       "3             【mobage】アイドルマスターｼﾝﾃﾞﾚﾗｶﾞｰﾙｽﾞ12674人目(1000) 2019-01-01 07:55:00   \n",
       "4             【mobage】アイドルマスターｼﾝﾃﾞﾚﾗｶﾞｰﾙｽﾞ12675人目(1000) 2019-01-01 10:07:00   \n",
       "...                                                 ...                 ...   \n",
       "4478          【mobage】アイドルマスターｼﾝﾃﾞﾚﾗｶﾞｰﾙｽﾞ17164人目(1000) 2019-12-31 20:29:00   \n",
       "4479  【mobage】アイドルマスターｼﾝﾃﾞﾚﾗｶﾞｰﾙｽﾞ17165人目【ご報告乱舞コンマ】(... 2019-12-31 21:12:00   \n",
       "4480   【mobage】アイドルマスターｼﾝﾃﾞﾚﾗｶﾞｰﾙｽﾞ17166人目【比奈コンマ】(1001) 2019-12-31 21:57:00   \n",
       "4481  【mobage】アイドルマスターｼﾝﾃﾞﾚﾗｶﾞｰﾙｽﾞ17167人目【今年最後の比奈コンマ... 2019-12-31 23:01:00   \n",
       "4482  【mobage】アイドルマスターｼﾝﾃﾞﾚﾗｶﾞｰﾙｽﾞ17168人目【年越しコンマ】(1001) 2019-12-31 23:55:00   \n",
       "\n",
       "                                                    リンク  month  day  \n",
       "0     https://hayabusa3.open2ch.net/test/read.cgi/ap...      1    1  \n",
       "1     https://hayabusa3.open2ch.net/test/read.cgi/ap...      1    1  \n",
       "2     https://hayabusa3.open2ch.net/test/read.cgi/ap...      1    1  \n",
       "3     https://hayabusa3.open2ch.net/test/read.cgi/ap...      1    1  \n",
       "4     https://hayabusa3.open2ch.net/test/read.cgi/ap...      1    1  \n",
       "...                                                 ...    ...  ...  \n",
       "4478  https://hayabusa3.open2ch.net/test/read.cgi/ap...     12   31  \n",
       "4479  https://hayabusa3.open2ch.net/test/read.cgi/ap...     12   31  \n",
       "4480  https://hayabusa3.open2ch.net/test/read.cgi/ap...     12   31  \n",
       "4481  https://hayabusa3.open2ch.net/test/read.cgi/ap...     12   31  \n",
       "4482  https://hayabusa3.open2ch.net/test/read.cgi/ap...     12   31  \n",
       "\n",
       "[4283 rows x 5 columns]"
      ]
     },
     "execution_count": 28,
     "metadata": {},
     "output_type": "execute_result"
    }
   ],
   "source": [
    "df['day'] = df['日付'].apply(lambda x: x.day)\n",
    "df"
   ]
  },
  {
   "cell_type": "code",
   "execution_count": 29,
   "metadata": {},
   "outputs": [
    {
     "data": {
      "text/plain": [
       "month\n",
       "1     244\n",
       "2     327\n",
       "3     334\n",
       "4     331\n",
       "5     393\n",
       "6     357\n",
       "7     394\n",
       "8     374\n",
       "9     378\n",
       "10    396\n",
       "11    381\n",
       "12    374\n",
       "Name: スレタイ, dtype: int64"
      ]
     },
     "execution_count": 29,
     "metadata": {},
     "output_type": "execute_result"
    }
   ],
   "source": [
    "df.groupby('month')['スレタイ'].count()"
   ]
  },
  {
   "cell_type": "code",
   "execution_count": 30,
   "metadata": {},
   "outputs": [
    {
     "data": {
      "text/plain": [
       "<matplotlib.axes._subplots.AxesSubplot at 0x23cfd897898>"
      ]
     },
     "execution_count": 30,
     "metadata": {},
     "output_type": "execute_result"
    },
    {
     "data": {
      "image/png": "[encoded data removed]",
      "text/plain": [
       "<Figure size 432x288 with 1 Axes>"
      ]
     },
     "metadata": {
      "needs_background": "light"
     },
     "output_type": "display_data"
    }
   ],
   "source": [
    "df.groupby('month')['スレタイ'].count().plot(kind='bar')"
   ]
  },
  {
   "cell_type": "code",
   "execution_count": 31,
   "metadata": {},
   "outputs": [
    {
     "data": {
      "text/plain": [
       "day\n",
       "1     143\n",
       "2     136\n",
       "3     142\n",
       "4     148\n",
       "5     133\n",
       "6     133\n",
       "7     138\n",
       "8     145\n",
       "9     150\n",
       "10    139\n",
       "11    140\n",
       "12    141\n",
       "13    138\n",
       "14    141\n",
       "15    136\n",
       "16    145\n",
       "17    141\n",
       "18    133\n",
       "19    141\n",
       "20    142\n",
       "21    147\n",
       "22    146\n",
       "23    141\n",
       "24    131\n",
       "25    125\n",
       "26    146\n",
       "27    145\n",
       "28    143\n",
       "29    130\n",
       "30    137\n",
       "31     87\n",
       "Name: スレタイ, dtype: int64"
      ]
     },
     "execution_count": 31,
     "metadata": {},
     "output_type": "execute_result"
    }
   ],
   "source": [
    "df.groupby('day')['スレタイ'].count()"
   ]
  },
  {
   "cell_type": "code",
   "execution_count": 32,
   "metadata": {},
   "outputs": [
    {
     "data": {
      "text/plain": [
       "<matplotlib.axes._subplots.AxesSubplot at 0x23cfd7100f0>"
      ]
     },
     "execution_count": 32,
     "metadata": {},
     "output_type": "execute_result"
    },
    {
     "data": {
      "image/png": "[encoded data removed]",
      "text/plain": [
       "<Figure size 432x288 with 1 Axes>"
      ]
     },
     "metadata": {
      "needs_background": "light"
     },
     "output_type": "display_data"
    }
   ],
   "source": [
    "df.groupby('day')['スレタイ'].count().plot(kind='bar')"
   ]
  },
  {
   "cell_type": "code",
   "execution_count": null,
   "metadata": {},
   "outputs": [],
   "source": []
  }
 ],
 "metadata": {
  "kernelspec": {
   "display_name": "Python 3",
   "language": "python",
   "name": "python3"
  },
  "language_info": {
   "codemirror_mode": {
    "name": "ipython",
    "version": 3
   },
   "file_extension": ".py",
   "mimetype": "text/x-python",
   "name": "python",
   "nbconvert_exporter": "python",
   "pygments_lexer": "ipython3",
   "version": "3.7.1"
  }
 },
 "nbformat": 4,
 "nbformat_minor": 4
}
