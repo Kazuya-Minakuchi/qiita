{
 "cells": [
  {
   "cell_type": "markdown",
   "metadata": {},
   "source": [
    "# データ取得"
   ]
  },
  {
   "cell_type": "markdown",
   "metadata": {},
   "source": [
    "**このノートブックでやること**\n",
    "\n",
    "「アイマス デレステ攻略まとめwiki」からイベントボーダーのデータを取得し、csvファイルに保存する\n",
    "\n",
    "https://imascg-slstage-wiki.gamerch.com/%E3%82%A4%E3%83%99%E3%83%B3%E3%83%88%E3%83%87%E3%83%BC%E3%82%BF"
   ]
  },
  {
   "cell_type": "markdown",
   "metadata": {},
   "source": [
    "## import"
   ]
  },
  {
   "cell_type": "code",
   "execution_count": 1,
   "metadata": {},
   "outputs": [],
   "source": [
    "import os\n",
    "import requests\n",
    "from bs4 import BeautifulSoup\n",
    "import csv"
   ]
  },
  {
   "cell_type": "markdown",
   "metadata": {},
   "source": [
    "## スクレイピングでデータ取得"
   ]
  },
  {
   "cell_type": "code",
   "execution_count": 2,
   "metadata": {},
   "outputs": [],
   "source": [
    "# アイマス デレステ攻略まとめwiki【アイドルマスター シンデレラガールズ スターライトステージ】\n",
    "# 【デレステ】イベントデータと過去のボーダー一覧\n",
    "url = 'https://imascg-slstage-wiki.gamerch.com/%E3%82%A4%E3%83%99%E3%83%B3%E3%83%88%E3%83%87%E3%83%BC%E3%82%BF'"
   ]
  },
  {
   "cell_type": "code",
   "execution_count": 3,
   "metadata": {},
   "outputs": [],
   "source": [
    "html = requests.get(url)\n",
    "soup = BeautifulSoup(html.text,'html.parser')"
   ]
  },
  {
   "cell_type": "markdown",
   "metadata": {},
   "source": [
    "## csv形式で保存"
   ]
  },
  {
   "cell_type": "code",
   "execution_count": 4,
   "metadata": {},
   "outputs": [
    {
     "data": {
      "text/plain": [
       "[<h3><a href=\"/tag\">タグ一覧</a></h3>,\n",
       " <h3 class=\"ui_h-middle\">アタポン形式</h3>,\n",
       " <h3 class=\"ui_h-middle\">Groove形式</h3>,\n",
       " <h3 class=\"ui_h-middle\">Carnival形式</h3>,\n",
       " <h3 class=\"ui_h-middle\">アタポン形式</h3>,\n",
       " <h3 class=\"ui_h-middle\">Groove形式</h3>,\n",
       " <h3 class=\"ui_h-middle\">Parade形式</h3>,\n",
       " <h3 id=\"ui_comment_header\">コメント</h3>,\n",
       " <h3 class=\"ui_h-large\">各種・開催情報</h3>,\n",
       " <h3 class=\"ui_h-large\">ガシャシミュレータ</h3>,\n",
       " <h3 class=\"ui_h-large\">掲示板</h3>,\n",
       " <h3 class=\"ui_h-large\">初心者向け情報</h3>,\n",
       " <h3 class=\"ui_h-large\">イベント</h3>,\n",
       " <h3 class=\"ui_h-large\">ガシャ</h3>,\n",
       " <h3 class=\"ui_h-large\">エピソード(カード)</h3>,\n",
       " <h3 class=\"ui_h-large\">楽曲</h3>,\n",
       " <h3 class=\"ui_h-large\">LIVE</h3>,\n",
       " <h3 class=\"ui_h-large\">アイドル</h3>,\n",
       " <h3 class=\"ui_h-large\">デレコネ</h3>,\n",
       " <h3 class=\"ui_h-large\">コミュ</h3>,\n",
       " <h3 class=\"ui_h-large\">ルーム</h3>,\n",
       " <h3 class=\"ui_h-large\"><a href=\"https://imascg-slstage-wiki.gamerch.com/%E5%96%B6%E6%A5%AD\" title=\"営業\">営業<span class=\"js_menu_comment_cnt ui_menu_comment_cnt\"> (360<span style=\"font-size:10px\">コメ</span>)</span></a></h3>,\n",
       " <h3 class=\"ui_h-large\"><a href=\"https://imascg-slstage-wiki.gamerch.com/%E3%83%9F%E3%83%83%E3%82%B7%E3%83%A7%E3%83%B3\" title=\"ミッション\">ミッション<span class=\"js_menu_comment_cnt ui_menu_comment_cnt\"> (107<span style=\"font-size:10px\">コメ</span>)</span></a></h3>,\n",
       " <h3 class=\"ui_h-large\"><a href=\"https://imascg-slstage-wiki.gamerch.com/%E3%82%B7%E3%83%A7%E3%83%83%E3%83%97\" title=\"ショップ\">ショップ<span class=\"js_menu_comment_cnt ui_menu_comment_cnt\"> (37<span style=\"font-size:10px\">コメ</span>)</span></a></h3>,\n",
       " <h3 class=\"ui_h-large\">ステータス</h3>,\n",
       " <h3 class=\"ui_h-large\">小ネタ</h3>,\n",
       " <h3 class=\"ui_h-large\">予想・考察</h3>,\n",
       " <h3 class=\"ui_h-large\">その他</h3>,\n",
       " <h3 class=\"ui_h-large\">リンク</h3>,\n",
       " <h3 class=\"ui_h-large\">Wikiメンバー用</h3>]"
      ]
     },
     "execution_count": 4,
     "metadata": {},
     "output_type": "execute_result"
    }
   ],
   "source": [
    "h3_list = soup.find_all(\"h3\")\n",
    "h3_list"
   ]
  },
  {
   "cell_type": "code",
   "execution_count": 5,
   "metadata": {},
   "outputs": [
    {
     "data": {
      "text/plain": [
       "['アタポン形式', 'Groove形式', 'Carnival形式']"
      ]
     },
     "execution_count": 5,
     "metadata": {},
     "output_type": "execute_result"
    }
   ],
   "source": [
    "# イベント形式名\n",
    "event_formats = [h3.get_text() for h3 in h3_list[1:4]]\n",
    "event_formats"
   ]
  },
  {
   "cell_type": "code",
   "execution_count": 6,
   "metadata": {},
   "outputs": [],
   "source": [
    "# イベントptランキング ボーダーテーブル\n",
    "event_tables = soup.find_all(\"table\")\n",
    "event_tables = event_tables[0:3]"
   ]
  },
  {
   "cell_type": "code",
   "execution_count": 7,
   "metadata": {},
   "outputs": [
    {
     "data": {
      "text/plain": [
       "3"
      ]
     },
     "execution_count": 7,
     "metadata": {},
     "output_type": "execute_result"
    }
   ],
   "source": [
    "len(event_tables)"
   ]
  },
  {
   "cell_type": "code",
   "execution_count": 8,
   "metadata": {},
   "outputs": [],
   "source": [
    "# 形式名とテーブルをまとめる\n",
    "event_dict = {format_: table for format_, table in zip(event_formats, event_tables)}"
   ]
  },
  {
   "cell_type": "code",
   "execution_count": 9,
   "metadata": {},
   "outputs": [],
   "source": [
    "# csv保存関数\n",
    "def tableToCSV(filename, table):\n",
    "    rows = table.findAll('tr')\n",
    "\n",
    "    with open(filename, 'wt', newline = '', encoding = 'utf-8') as f:\n",
    "        writer = csv.writer(f)\n",
    "        for i, row in enumerate(rows):\n",
    "            csvRow = []\n",
    "            if i == 0:\n",
    "                for cell in row.findAll('th'):\n",
    "                    csvRow.append(cell.get_text())\n",
    "            else:\n",
    "                for cell in row.findAll('td'):\n",
    "                    csvRow.append(cell.get_text())\n",
    "            if len(csvRow) != 0:\n",
    "                writer.writerow(csvRow)"
   ]
  },
  {
   "cell_type": "code",
   "execution_count": 10,
   "metadata": {},
   "outputs": [],
   "source": [
    "# 形式ごとに保存\n",
    "save_dir = '../event_data'\n",
    "os.makedirs(save_dir, exist_ok=True)\n",
    "for key, value in event_dict.items():\n",
    "    tableToCSV(save_dir + f\"/{key}.csv\", value)\n",
    "    "
   ]
  },
  {
   "cell_type": "code",
   "execution_count": null,
   "metadata": {},
   "outputs": [],
   "source": []
  }
 ],
 "metadata": {
  "kernelspec": {
   "display_name": "Python 3",
   "language": "python",
   "name": "python3"
  },
  "language_info": {
   "codemirror_mode": {
    "name": "ipython",
    "version": 3
   },
   "file_extension": ".py",
   "mimetype": "text/x-python",
   "name": "python",
   "nbconvert_exporter": "python",
   "pygments_lexer": "ipython3",
   "version": "3.7.1"
  }
 },
 "nbformat": 4,
 "nbformat_minor": 4
}
