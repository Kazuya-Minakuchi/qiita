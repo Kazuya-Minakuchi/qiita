{
 "cells": [
  {
   "cell_type": "markdown",
   "metadata": {},
   "source": [
    "https://qiita.com/kazuya_minakuchi/items/9e73ab5fd1a9c17e3787 の図を作ったコード"
   ]
  },
  {
   "cell_type": "code",
   "execution_count": 1,
   "metadata": {},
   "outputs": [],
   "source": [
    "#必要なライブラリインポート\n",
    "import numpy as np\n",
    "import matplotlib.pyplot as plt\n",
    "from sklearn.neighbors import KNeighborsRegressor"
   ]
  },
  {
   "cell_type": "code",
   "execution_count": 2,
   "metadata": {},
   "outputs": [],
   "source": [
    "#乱数固定\n",
    "np.random.seed(0)\n",
    "\n",
    "#青・赤の点の数\n",
    "n = 5\n",
    "\n",
    "#青の座標作成\n",
    "X0 = np.random.randn(n, 2)\n",
    "#赤の座標作成\n",
    "X1 = np.random.randn(n, 2) + np.array([0.5, 1.5])\n",
    "#青と赤を合体\n",
    "X = np.r_[X0, X1]\n",
    "\n",
    "#点に値設定する(青 = 1, 赤 = -1)\n",
    "y = np.array([1] * n + [-1] * n)"
   ]
  },
  {
   "cell_type": "code",
   "execution_count": 3,
   "metadata": {},
   "outputs": [],
   "source": [
    "#kNNのインスタンス作成\n",
    "n_neighbors=5\n",
    "#weights='uniform'\n",
    "weights='distance'\n",
    "model = KNeighborsRegressor(n_neighbors=n_neighbors,\n",
    "                            weights=weights)"
   ]
  },
  {
   "cell_type": "code",
   "execution_count": 4,
   "metadata": {},
   "outputs": [
    {
     "data": {
      "text/plain": [
       "KNeighborsRegressor(algorithm='auto', leaf_size=30, metric='minkowski',\n",
       "                    metric_params=None, n_jobs=None, n_neighbors=5, p=2,\n",
       "                    weights='distance')"
      ]
     },
     "execution_count": 4,
     "metadata": {},
     "output_type": "execute_result"
    }
   ],
   "source": [
    "#教師データ入れてモデル作成\n",
    "model.fit(X, y)"
   ]
  },
  {
   "cell_type": "code",
   "execution_count": 5,
   "metadata": {},
   "outputs": [],
   "source": [
    "xmin, xmax = X[:, 0].min(), X[:, 0].max()\n",
    "ymin, ymax = X[:, 1].min(), X[:, 1].max()"
   ]
  },
  {
   "cell_type": "code",
   "execution_count": 6,
   "metadata": {},
   "outputs": [
    {
     "name": "stdout",
     "output_type": "stream",
     "text": [
      "緑の点の予測値 [-0.47789227]\n"
     ]
    },
    {
     "data": {
      "image/png": "[encoded data removed]",
      "text/plain": [
       "<Figure size 432x288 with 1 Axes>"
      ]
     },
     "metadata": {
      "needs_background": "light"
     },
     "output_type": "display_data"
    }
   ],
   "source": [
    "#点プロット(青、赤)\n",
    "plt.scatter(X0[:, 0], X0[:, 1], color=\"b\", marker=\"*\")\n",
    "plt.scatter(X1[:, 0], X1[:, 1], color=\"r\", marker=\"+\")\n",
    "\n",
    "# #線引くためにグリッド作成\n",
    "# xmesh, ymesh = np.meshgrid(np.linspace(xmin, xmax, 200),\n",
    "#                            np.linspace(ymin, ymax, 200))\n",
    "# #グリッドの点毎に値を予測\n",
    "# Z = model.predict(np.c_[xmesh.ravel(), ymesh.ravel()]).reshape(xmesh.shape)\n",
    "\n",
    "# #0になるところの線引く\n",
    "# plt.contour(xmesh, ymesh, Z, levels=[0], colors=\"k\")\n",
    "\n",
    "#予測したい点(緑)\n",
    "x_pred = np.array([[1.0, 0.8]])\n",
    "plt.scatter(x_pred[:, 0], x_pred[:, 1], color=\"g\", marker=\"o\")\n",
    "y_pred = model.predict(x_pred)\n",
    "print('緑の点の予測値', y_pred)\n",
    "\n",
    "plt.show()"
   ]
  },
  {
   "cell_type": "code",
   "execution_count": null,
   "metadata": {},
   "outputs": [],
   "source": []
  }
 ],
 "metadata": {
  "kernelspec": {
   "display_name": "Python 3",
   "language": "python",
   "name": "python3"
  },
  "language_info": {
   "codemirror_mode": {
    "name": "ipython",
    "version": 3
   },
   "file_extension": ".py",
   "mimetype": "text/x-python",
   "name": "python",
   "nbconvert_exporter": "python",
   "pygments_lexer": "ipython3",
   "version": "3.7.1"
  }
 },
 "nbformat": 4,
 "nbformat_minor": 4
}
