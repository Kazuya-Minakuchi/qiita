{
 "cells": [
  {
   "cell_type": "markdown",
   "metadata": {},
   "source": [
    "* https://qiita.com/kazuya_minakuchi/items/4f238120032224909cf4 の図を作ったコード\n",
    "* ※ほとんど「機械学習のエッセンス: https://www.amazon.co.jp/gp/product/4797393963/ref=ppx_yo_dt_b_search_asin_title 」の写経"
   ]
  },
  {
   "cell_type": "code",
   "execution_count": 1,
   "metadata": {},
   "outputs": [],
   "source": [
    "# 必要なライブラリインポート\n",
    "import numpy as np\n",
    "from operator import itemgetter\n",
    "import matplotlib.pyplot as plt"
   ]
  },
  {
   "cell_type": "code",
   "execution_count": 2,
   "metadata": {},
   "outputs": [],
   "source": [
    "# カーネル関数にRBFカーネル(Radial basis function kernel)を使う\n",
    "class RBFKernel:\n",
    "    def __init__(self, X, sigma):\n",
    "        self.sigma2 = sigma**2\n",
    "        self.X = X\n",
    "        self.values_ = np.empty((X.shape[0], X.shape[0]))\n",
    "    \n",
    "    def value(self, i, j):\n",
    "        return np.exp(-((self.X[i, :] - self.X[j, :])**2).sum()\n",
    "                      / (2*self.sigma2))\n",
    "    \n",
    "    def eval(self, Z, s):\n",
    "        return np.exp(-((self.X[s, np.newaxis, :]\n",
    "                         - Z[np.newaxis, :, :])**2).sum(axis=2)\n",
    "                      / (2*self.sigma2))\n",
    "\n",
    "# 境界線が曲線で、完全に分離できない場合\n",
    "class SVC:\n",
    "    def __init__(self, C=1., sigma=1., max_iter=10000):\n",
    "        self.C = C                # ハイパーパラメータを設定: 間違えを許す度合い\n",
    "        self.sigma = sigma        # RBFカーネルで使うσ\n",
    "        self.max_iter = max_iter  # 繰り返し計算の最大回数\n",
    "    \n",
    "    def fit(self, X, y, selections=None):\n",
    "        # 初期値は全部0からスタート\n",
    "        a = np.zeros(X.shape[0])\n",
    "        # aの初期値が0なので、これらも0からスタート\n",
    "        ay = 0\n",
    "        \n",
    "        kernel = RBFKernel(X, self.sigma)\n",
    "        indices = np.arange(X.shape[0])  # インデックス用\n",
    "        # 手計算では解けないので繰り返し計算で解を出す\n",
    "        for _ in range(self.max_iter):\n",
    "            # aが0でないところだけ使ってy∇f(a)を計算\n",
    "            s = a != 0.\n",
    "            ydf = y * (1 - y*np.dot(a[s]*y[s],\n",
    "                                    kernel.eval(X, s)).T)\n",
    "            iydf = np.c_[indices, ydf]  # ｙにインデックス付ける\n",
    "            # 今回更新するaを2つ選ぶ\n",
    "            i = int(min(iydf[((a > 0) & (y > 0)) |\n",
    "                             ((a < self.C) & (y < 0))],\n",
    "                        key=itemgetter(1))[0])\n",
    "            j = int(max(iydf[((a > 0) & (y < 0)) |\n",
    "                             ((a < self.C) & (y > 0))],\n",
    "                        key=itemgetter(1))[0])\n",
    "            # 収束条件\n",
    "            if ydf[i] >= ydf[j]:\n",
    "                break\n",
    "            # ayからai, ajの成分引いたやつ\n",
    "            ay2 = ay - y[i]*a[i] - y[j]*a[j]\n",
    "            # aiを更新するためカーネル関数のところ計算\n",
    "            kii = kernel.value(i, i)\n",
    "            kij = kernel.value(i, j)\n",
    "            kjj = kernel.value(j, j)\n",
    "            s = a != 0.\n",
    "            s[i] = False\n",
    "            s[j] = False\n",
    "            kxi = kernel.eval(X[i, :].reshape(1, -1), s).ravel()\n",
    "            kxj = kernel.eval(X[j, :].reshape(1, -1), s).ravel()\n",
    "            # ai更新\n",
    "            ai = ((1 - y[i]*y[j]\n",
    "                   + y[i]*((kij - kjj)*ay2\n",
    "                           - (a[s]*y[s]*(kxi-kxj)).sum()))\n",
    "                  / (kii + kjj - 2*kij))\n",
    "            if ai < 0:\n",
    "                ai = 0\n",
    "            elif ai > self.C:\n",
    "                ai = self.C\n",
    "            # aj更新\n",
    "            aj = (-ai*y[i] - ay2)*y[j]\n",
    "            if aj < 0:\n",
    "                aj = 0\n",
    "                ai = (-aj*y[j] - ay2)*y[i]\n",
    "            elif aj > self.C:\n",
    "                aj = self.C\n",
    "                ai = (-aj*y[j] - ay2)*y[i]\n",
    "            # 更新したai, ajを使ってay更新\n",
    "            ay += y[i] * (ai-a[i]) + y[j] * (aj-a[j])\n",
    "            # 更新してもai変わらなかったら終了\n",
    "            if ai == a[i]:\n",
    "                break\n",
    "            a[i] = ai\n",
    "            a[j] = aj\n",
    "        self.a_ = a\n",
    "        self.y_ = y\n",
    "        self.kernel_ = kernel\n",
    "        # 決定したa使ってw求める\n",
    "        s = a != 0.\n",
    "        self.w0_ = (y[s]\n",
    "                    - np.dot(a[s]*y[s],\n",
    "                             kernel.eval(X[s], s))).sum() / s.sum()\n",
    "    \n",
    "    def predict(self, X):\n",
    "        s = self.a_ != 0.\n",
    "        return np.sign(self.w0_\n",
    "                       + np.dot(self.a_[s]*self.y_[s],\n",
    "                                self.kernel_.eval(X, s)))"
   ]
  },
  {
   "cell_type": "code",
   "execution_count": 3,
   "metadata": {},
   "outputs": [],
   "source": [
    "#点作成\n",
    "X0 = np.random.randn(100, 2)\n",
    "X1 = np.random.randn(100, 2) + np.array([2.5, 2.5])\n",
    "\n",
    "X = np.r_[X0, X1]\n",
    "y = np.array([1] * 100 + [-1] * 100)"
   ]
  },
  {
   "cell_type": "code",
   "execution_count": 4,
   "metadata": {},
   "outputs": [],
   "source": [
    "# 学習\n",
    "model = SVC(C=1.)\n",
    "model.fit(X, y)"
   ]
  },
  {
   "cell_type": "code",
   "execution_count": 5,
   "metadata": {},
   "outputs": [
    {
     "data": {
      "image/png": "[encoded data removed]",
      "text/plain": [
       "<Figure size 432x288 with 1 Axes>"
      ]
     },
     "metadata": {
      "needs_background": "light"
     },
     "output_type": "display_data"
    },
    {
     "name": "stdout",
     "output_type": "stream",
     "text": [
      "正しく分類できた数: 195 / 200\n"
     ]
    }
   ],
   "source": [
    "np.random.seed(20)\n",
    "\n",
    "plt.scatter(X0[:, 0], X0[:, 1], color=\"b\", marker=\"*\")\n",
    "plt.scatter(X1[:, 0], X1[:, 1], color=\"r\", marker=\"+\")\n",
    "\n",
    "#境界線引く\n",
    "xmin, xmax = X[:, 0].min(), X[:, 0].max()\n",
    "ymin, ymax = X[:, 1].min(), X[:, 1].max()\n",
    "xmesh, ymesh = np.meshgrid(np.linspace(xmin, xmax, 200),\n",
    "                           np.linspace(ymin, ymax, 200))\n",
    "Z = model.predict(np.c_[xmesh.ravel(), ymesh.ravel()]).reshape(xmesh.shape)\n",
    "plt.contour(xmesh, ymesh, Z, levels=[0], colors=\"k\")\n",
    "\n",
    "#サポートベクターに〇つける\n",
    "plt.scatter(X[model.a_ != 0, 0], X[model.a_ != 0, 1],\n",
    "            s=200, color=(0, 0, 0, 0), edgecolor=\"k\", marker=\"o\")\n",
    "\n",
    "plt.show()\n",
    "\n",
    "print(\"正しく分類できた数:\", (model.predict(X) == y).sum(), \"/\", len(X))"
   ]
  },
  {
   "cell_type": "code",
   "execution_count": null,
   "metadata": {},
   "outputs": [],
   "source": []
  }
 ],
 "metadata": {
  "kernelspec": {
   "display_name": "Python 3",
   "language": "python",
   "name": "python3"
  },
  "language_info": {
   "codemirror_mode": {
    "name": "ipython",
    "version": 3
   },
   "file_extension": ".py",
   "mimetype": "text/x-python",
   "name": "python",
   "nbconvert_exporter": "python",
   "pygments_lexer": "ipython3",
   "version": "3.7.1"
  }
 },
 "nbformat": 4,
 "nbformat_minor": 4
}
