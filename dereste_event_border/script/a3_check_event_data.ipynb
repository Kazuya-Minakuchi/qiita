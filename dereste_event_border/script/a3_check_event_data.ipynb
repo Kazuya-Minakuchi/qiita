{
 "cells": [
  {
   "cell_type": "markdown",
   "metadata": {},
   "source": [
    "# 日付データ追加"
   ]
  },
  {
   "cell_type": "markdown",
   "metadata": {},
   "source": [
    "**このノートブックでやること**\n",
    "* データの確認\n",
    "* 前処理"
   ]
  },
  {
   "cell_type": "markdown",
   "metadata": {},
   "source": [
    "## インポート"
   ]
  },
  {
   "cell_type": "code",
   "execution_count": 1,
   "metadata": {},
   "outputs": [],
   "source": [
    "import numpy as np\n",
    "import pandas as pd\n",
    "import datetime\n",
    "import re\n",
    "import matplotlib.pyplot as plt"
   ]
  },
  {
   "cell_type": "markdown",
   "metadata": {},
   "source": [
    "## イベントデータ読み込み"
   ]
  },
  {
   "cell_type": "code",
   "execution_count": 2,
   "metadata": {},
   "outputs": [],
   "source": [
    "input_dir = '../event_data/'"
   ]
  },
  {
   "cell_type": "code",
   "execution_count": 3,
   "metadata": {},
   "outputs": [
    {
     "data": {
      "text/html": [
       "<div>\n",
       "<style scoped>\n",
       "    .dataframe tbody tr th:only-of-type {\n",
       "        vertical-align: middle;\n",
       "    }\n",
       "\n",
       "    .dataframe tbody tr th {\n",
       "        vertical-align: top;\n",
       "    }\n",
       "\n",
       "    .dataframe thead th {\n",
       "        text-align: right;\n",
       "    }\n",
       "</style>\n",
       "<table border=\"1\" class=\"dataframe\">\n",
       "  <thead>\n",
       "    <tr style=\"text-align: right;\">\n",
       "      <th></th>\n",
       "      <th>イベント</th>\n",
       "      <th>2001位</th>\n",
       "      <th>形式</th>\n",
       "      <th>日付</th>\n",
       "      <th>属性</th>\n",
       "      <th>期間</th>\n",
       "    </tr>\n",
       "  </thead>\n",
       "  <tbody>\n",
       "    <tr>\n",
       "      <th>0</th>\n",
       "      <td>Stage Bye Stage</td>\n",
       "      <td>178,840</td>\n",
       "      <td>Carnival</td>\n",
       "      <td>2019-07-02</td>\n",
       "      <td>NaN</td>\n",
       "      <td>NaN</td>\n",
       "    </tr>\n",
       "    <tr>\n",
       "      <th>1</th>\n",
       "      <td>TRUE COLORS</td>\n",
       "      <td>176,743</td>\n",
       "      <td>Carnival</td>\n",
       "      <td>2019-08-31</td>\n",
       "      <td>NaN</td>\n",
       "      <td>NaN</td>\n",
       "    </tr>\n",
       "    <tr>\n",
       "      <th>2</th>\n",
       "      <td>夢をのぞいたら</td>\n",
       "      <td>210,672</td>\n",
       "      <td>Carnival</td>\n",
       "      <td>2020-01-01</td>\n",
       "      <td>NaN</td>\n",
       "      <td>NaN</td>\n",
       "    </tr>\n",
       "    <tr>\n",
       "      <th>3</th>\n",
       "      <td>夢色ハーモニー</td>\n",
       "      <td>45,587</td>\n",
       "      <td>Groove</td>\n",
       "      <td>2015-10-31</td>\n",
       "      <td>Vo</td>\n",
       "      <td>9日(198h)</td>\n",
       "    </tr>\n",
       "    <tr>\n",
       "      <th>4</th>\n",
       "      <td>流れ星キセキ</td>\n",
       "      <td>48,673</td>\n",
       "      <td>Groove</td>\n",
       "      <td>2015-12-04</td>\n",
       "      <td>Vo</td>\n",
       "      <td>10日(222h)</td>\n",
       "    </tr>\n",
       "    <tr>\n",
       "      <th>...</th>\n",
       "      <td>...</td>\n",
       "      <td>...</td>\n",
       "      <td>...</td>\n",
       "      <td>...</td>\n",
       "      <td>...</td>\n",
       "      <td>...</td>\n",
       "    </tr>\n",
       "    <tr>\n",
       "      <th>90</th>\n",
       "      <td>Athanasia</td>\n",
       "      <td>75,775</td>\n",
       "      <td>アタポン</td>\n",
       "      <td>2020-04-20</td>\n",
       "      <td>NaN</td>\n",
       "      <td>8日(174h)</td>\n",
       "    </tr>\n",
       "    <tr>\n",
       "      <th>91</th>\n",
       "      <td>不埒なCANVAS</td>\n",
       "      <td>188,652</td>\n",
       "      <td>アタポン</td>\n",
       "      <td>2020-05-19</td>\n",
       "      <td>NaN</td>\n",
       "      <td>9日(198h)</td>\n",
       "    </tr>\n",
       "    <tr>\n",
       "      <th>92</th>\n",
       "      <td>Sing the Prologue♪</td>\n",
       "      <td>85,574</td>\n",
       "      <td>アタポン</td>\n",
       "      <td>2020-06-19</td>\n",
       "      <td>NaN</td>\n",
       "      <td>8日(174h)</td>\n",
       "    </tr>\n",
       "    <tr>\n",
       "      <th>93</th>\n",
       "      <td>太陽の絵の具箱</td>\n",
       "      <td>107,142</td>\n",
       "      <td>アタポン</td>\n",
       "      <td>2020-07-20</td>\n",
       "      <td>NaN</td>\n",
       "      <td>8日(174h)</td>\n",
       "    </tr>\n",
       "    <tr>\n",
       "      <th>94</th>\n",
       "      <td>ヒーローヴァーサスレイナンジョー</td>\n",
       "      <td>60,211</td>\n",
       "      <td>アタポン</td>\n",
       "      <td>2020-08-19</td>\n",
       "      <td>NaN</td>\n",
       "      <td>8日(174h)</td>\n",
       "    </tr>\n",
       "  </tbody>\n",
       "</table>\n",
       "<p>95 rows × 6 columns</p>\n",
       "</div>"
      ],
      "text/plain": [
       "                  イベント    2001位        形式          日付   属性         期間\n",
       "0      Stage Bye Stage  178,840  Carnival  2019-07-02  NaN        NaN\n",
       "1          TRUE COLORS  176,743  Carnival  2019-08-31  NaN        NaN\n",
       "2              夢をのぞいたら  210,672  Carnival  2020-01-01  NaN        NaN\n",
       "3              夢色ハーモニー   45,587    Groove  2015-10-31   Vo   9日(198h)\n",
       "4               流れ星キセキ   48,673    Groove  2015-12-04   Vo  10日(222h)\n",
       "..                 ...      ...       ...         ...  ...        ...\n",
       "90           Athanasia   75,775      アタポン  2020-04-20  NaN   8日(174h)\n",
       "91           不埒なCANVAS  188,652      アタポン  2020-05-19  NaN   9日(198h)\n",
       "92  Sing the Prologue♪   85,574      アタポン  2020-06-19  NaN   8日(174h)\n",
       "93             太陽の絵の具箱  107,142      アタポン  2020-07-20  NaN   8日(174h)\n",
       "94    ヒーローヴァーサスレイナンジョー   60,211      アタポン  2020-08-19  NaN   8日(174h)\n",
       "\n",
       "[95 rows x 6 columns]"
      ]
     },
     "execution_count": 3,
     "metadata": {},
     "output_type": "execute_result"
    }
   ],
   "source": [
    "df = pd.read_pickle(input_dir + 'a2_output_df.pkl')\n",
    "df"
   ]
  },
  {
   "cell_type": "markdown",
   "metadata": {},
   "source": [
    "## データ確認"
   ]
  },
  {
   "cell_type": "markdown",
   "metadata": {},
   "source": [
    "### データ数・データ型"
   ]
  },
  {
   "cell_type": "code",
   "execution_count": 4,
   "metadata": {},
   "outputs": [
    {
     "name": "stdout",
     "output_type": "stream",
     "text": [
      "<class 'pandas.core.frame.DataFrame'>\n",
      "RangeIndex: 95 entries, 0 to 94\n",
      "Data columns (total 6 columns):\n",
      " #   Column  Non-Null Count  Dtype \n",
      "---  ------  --------------  ----- \n",
      " 0   イベント    95 non-null     object\n",
      " 1   2001位   95 non-null     object\n",
      " 2   形式      95 non-null     object\n",
      " 3   日付      95 non-null     object\n",
      " 4   属性      32 non-null     object\n",
      " 5   期間      92 non-null     object\n",
      "dtypes: object(6)\n",
      "memory usage: 4.6+ KB\n"
     ]
    }
   ],
   "source": [
    "df.info()"
   ]
  },
  {
   "cell_type": "code",
   "execution_count": 5,
   "metadata": {},
   "outputs": [],
   "source": [
    "# 2001位の列は整数型にする\n",
    "df['2001位'] = df['2001位'].apply(lambda x: int(x.replace(',', '')))"
   ]
  },
  {
   "cell_type": "code",
   "execution_count": 6,
   "metadata": {},
   "outputs": [],
   "source": [
    "# 期間は、カッコ内の時間を取り出す\n",
    "pattern = '(?<=\\().+(?=h)'\n",
    "df['期間'] = df['期間'].apply(lambda x: float(re.search(pattern, x).group()) if type(x) is str else None)"
   ]
  },
  {
   "cell_type": "code",
   "execution_count": 7,
   "metadata": {},
   "outputs": [],
   "source": [
    "# カテゴリ型に変更\n",
    "df['属性'] = df['属性'].astype('category')\n",
    "df['形式'] = df['形式'].astype('category')"
   ]
  },
  {
   "cell_type": "code",
   "execution_count": 8,
   "metadata": {},
   "outputs": [
    {
     "data": {
      "text/plain": [
       "イベント       object\n",
       "2001位       int64\n",
       "形式       category\n",
       "日付         object\n",
       "属性       category\n",
       "期間        float64\n",
       "dtype: object"
      ]
     },
     "execution_count": 8,
     "metadata": {},
     "output_type": "execute_result"
    }
   ],
   "source": [
    "df.dtypes"
   ]
  },
  {
   "cell_type": "code",
   "execution_count": 9,
   "metadata": {},
   "outputs": [],
   "source": [
    "# 保存\n",
    "save_dir = '../event_data'\n",
    "df.to_pickle(save_dir + '/a3_output_df.pkl')"
   ]
  },
  {
   "cell_type": "code",
   "execution_count": 10,
   "metadata": {},
   "outputs": [
    {
     "data": {
      "text/html": [
       "<div>\n",
       "<style scoped>\n",
       "    .dataframe tbody tr th:only-of-type {\n",
       "        vertical-align: middle;\n",
       "    }\n",
       "\n",
       "    .dataframe tbody tr th {\n",
       "        vertical-align: top;\n",
       "    }\n",
       "\n",
       "    .dataframe thead th {\n",
       "        text-align: right;\n",
       "    }\n",
       "</style>\n",
       "<table border=\"1\" class=\"dataframe\">\n",
       "  <thead>\n",
       "    <tr style=\"text-align: right;\">\n",
       "      <th></th>\n",
       "      <th>イベント</th>\n",
       "      <th>2001位</th>\n",
       "      <th>形式</th>\n",
       "      <th>日付</th>\n",
       "      <th>属性</th>\n",
       "      <th>期間</th>\n",
       "    </tr>\n",
       "  </thead>\n",
       "  <tbody>\n",
       "    <tr>\n",
       "      <th>0</th>\n",
       "      <td>Stage Bye Stage</td>\n",
       "      <td>178840</td>\n",
       "      <td>Carnival</td>\n",
       "      <td>2019-07-02</td>\n",
       "      <td>NaN</td>\n",
       "      <td>NaN</td>\n",
       "    </tr>\n",
       "    <tr>\n",
       "      <th>1</th>\n",
       "      <td>TRUE COLORS</td>\n",
       "      <td>176743</td>\n",
       "      <td>Carnival</td>\n",
       "      <td>2019-08-31</td>\n",
       "      <td>NaN</td>\n",
       "      <td>NaN</td>\n",
       "    </tr>\n",
       "    <tr>\n",
       "      <th>2</th>\n",
       "      <td>夢をのぞいたら</td>\n",
       "      <td>210672</td>\n",
       "      <td>Carnival</td>\n",
       "      <td>2020-01-01</td>\n",
       "      <td>NaN</td>\n",
       "      <td>NaN</td>\n",
       "    </tr>\n",
       "    <tr>\n",
       "      <th>3</th>\n",
       "      <td>夢色ハーモニー</td>\n",
       "      <td>45587</td>\n",
       "      <td>Groove</td>\n",
       "      <td>2015-10-31</td>\n",
       "      <td>Vo</td>\n",
       "      <td>198.0</td>\n",
       "    </tr>\n",
       "    <tr>\n",
       "      <th>4</th>\n",
       "      <td>流れ星キセキ</td>\n",
       "      <td>48673</td>\n",
       "      <td>Groove</td>\n",
       "      <td>2015-12-04</td>\n",
       "      <td>Vo</td>\n",
       "      <td>222.0</td>\n",
       "    </tr>\n",
       "    <tr>\n",
       "      <th>...</th>\n",
       "      <td>...</td>\n",
       "      <td>...</td>\n",
       "      <td>...</td>\n",
       "      <td>...</td>\n",
       "      <td>...</td>\n",
       "      <td>...</td>\n",
       "    </tr>\n",
       "    <tr>\n",
       "      <th>90</th>\n",
       "      <td>Athanasia</td>\n",
       "      <td>75775</td>\n",
       "      <td>アタポン</td>\n",
       "      <td>2020-04-20</td>\n",
       "      <td>NaN</td>\n",
       "      <td>174.0</td>\n",
       "    </tr>\n",
       "    <tr>\n",
       "      <th>91</th>\n",
       "      <td>不埒なCANVAS</td>\n",
       "      <td>188652</td>\n",
       "      <td>アタポン</td>\n",
       "      <td>2020-05-19</td>\n",
       "      <td>NaN</td>\n",
       "      <td>198.0</td>\n",
       "    </tr>\n",
       "    <tr>\n",
       "      <th>92</th>\n",
       "      <td>Sing the Prologue♪</td>\n",
       "      <td>85574</td>\n",
       "      <td>アタポン</td>\n",
       "      <td>2020-06-19</td>\n",
       "      <td>NaN</td>\n",
       "      <td>174.0</td>\n",
       "    </tr>\n",
       "    <tr>\n",
       "      <th>93</th>\n",
       "      <td>太陽の絵の具箱</td>\n",
       "      <td>107142</td>\n",
       "      <td>アタポン</td>\n",
       "      <td>2020-07-20</td>\n",
       "      <td>NaN</td>\n",
       "      <td>174.0</td>\n",
       "    </tr>\n",
       "    <tr>\n",
       "      <th>94</th>\n",
       "      <td>ヒーローヴァーサスレイナンジョー</td>\n",
       "      <td>60211</td>\n",
       "      <td>アタポン</td>\n",
       "      <td>2020-08-19</td>\n",
       "      <td>NaN</td>\n",
       "      <td>174.0</td>\n",
       "    </tr>\n",
       "  </tbody>\n",
       "</table>\n",
       "<p>95 rows × 6 columns</p>\n",
       "</div>"
      ],
      "text/plain": [
       "                  イベント   2001位        形式          日付   属性     期間\n",
       "0      Stage Bye Stage  178840  Carnival  2019-07-02  NaN    NaN\n",
       "1          TRUE COLORS  176743  Carnival  2019-08-31  NaN    NaN\n",
       "2              夢をのぞいたら  210672  Carnival  2020-01-01  NaN    NaN\n",
       "3              夢色ハーモニー   45587    Groove  2015-10-31   Vo  198.0\n",
       "4               流れ星キセキ   48673    Groove  2015-12-04   Vo  222.0\n",
       "..                 ...     ...       ...         ...  ...    ...\n",
       "90           Athanasia   75775      アタポン  2020-04-20  NaN  174.0\n",
       "91           不埒なCANVAS  188652      アタポン  2020-05-19  NaN  198.0\n",
       "92  Sing the Prologue♪   85574      アタポン  2020-06-19  NaN  174.0\n",
       "93             太陽の絵の具箱  107142      アタポン  2020-07-20  NaN  174.0\n",
       "94    ヒーローヴァーサスレイナンジョー   60211      アタポン  2020-08-19  NaN  174.0\n",
       "\n",
       "[95 rows x 6 columns]"
      ]
     },
     "execution_count": 10,
     "metadata": {},
     "output_type": "execute_result"
    }
   ],
   "source": [
    "df = pd.read_pickle(save_dir + '/a3_output_df.pkl')\n",
    "df"
   ]
  },
  {
   "cell_type": "markdown",
   "metadata": {},
   "source": [
    "### 重複確認"
   ]
  },
  {
   "cell_type": "code",
   "execution_count": 11,
   "metadata": {},
   "outputs": [
    {
     "data": {
      "text/plain": [
       "イベント     95\n",
       "2001位    95\n",
       "形式       95\n",
       "日付       95\n",
       "属性       32\n",
       "期間       92\n",
       "dtype: int64"
      ]
     },
     "execution_count": 11,
     "metadata": {},
     "output_type": "execute_result"
    }
   ],
   "source": [
    "df.drop_duplicates().count()"
   ]
  },
  {
   "cell_type": "markdown",
   "metadata": {},
   "source": [
    "### 欠損確認"
   ]
  },
  {
   "cell_type": "code",
   "execution_count": 12,
   "metadata": {},
   "outputs": [
    {
     "data": {
      "text/plain": [
       "イベント      0\n",
       "2001位     0\n",
       "形式        0\n",
       "日付        0\n",
       "属性       63\n",
       "期間        3\n",
       "dtype: int64"
      ]
     },
     "execution_count": 12,
     "metadata": {},
     "output_type": "execute_result"
    }
   ],
   "source": [
    "df.isnull().sum()"
   ]
  },
  {
   "cell_type": "code",
   "execution_count": 13,
   "metadata": {},
   "outputs": [
    {
     "data": {
      "text/html": [
       "<div>\n",
       "<style scoped>\n",
       "    .dataframe tbody tr th:only-of-type {\n",
       "        vertical-align: middle;\n",
       "    }\n",
       "\n",
       "    .dataframe tbody tr th {\n",
       "        vertical-align: top;\n",
       "    }\n",
       "\n",
       "    .dataframe thead th {\n",
       "        text-align: right;\n",
       "    }\n",
       "</style>\n",
       "<table border=\"1\" class=\"dataframe\">\n",
       "  <thead>\n",
       "    <tr style=\"text-align: right;\">\n",
       "      <th></th>\n",
       "      <th>イベント</th>\n",
       "      <th>2001位</th>\n",
       "      <th>形式</th>\n",
       "      <th>日付</th>\n",
       "      <th>属性</th>\n",
       "      <th>期間</th>\n",
       "    </tr>\n",
       "  </thead>\n",
       "  <tbody>\n",
       "    <tr>\n",
       "      <th>0</th>\n",
       "      <td>Stage Bye Stage</td>\n",
       "      <td>178840</td>\n",
       "      <td>Carnival</td>\n",
       "      <td>2019-07-02</td>\n",
       "      <td>NaN</td>\n",
       "      <td>NaN</td>\n",
       "    </tr>\n",
       "    <tr>\n",
       "      <th>1</th>\n",
       "      <td>TRUE COLORS</td>\n",
       "      <td>176743</td>\n",
       "      <td>Carnival</td>\n",
       "      <td>2019-08-31</td>\n",
       "      <td>NaN</td>\n",
       "      <td>NaN</td>\n",
       "    </tr>\n",
       "    <tr>\n",
       "      <th>2</th>\n",
       "      <td>夢をのぞいたら</td>\n",
       "      <td>210672</td>\n",
       "      <td>Carnival</td>\n",
       "      <td>2020-01-01</td>\n",
       "      <td>NaN</td>\n",
       "      <td>NaN</td>\n",
       "    </tr>\n",
       "  </tbody>\n",
       "</table>\n",
       "</div>"
      ],
      "text/plain": [
       "              イベント   2001位        形式          日付   属性  期間\n",
       "0  Stage Bye Stage  178840  Carnival  2019-07-02  NaN NaN\n",
       "1      TRUE COLORS  176743  Carnival  2019-08-31  NaN NaN\n",
       "2          夢をのぞいたら  210672  Carnival  2020-01-01  NaN NaN"
      ]
     },
     "execution_count": 13,
     "metadata": {},
     "output_type": "execute_result"
    }
   ],
   "source": [
    "# 期間が欠損のものはCarnival\n",
    "df.loc[df['期間'].isnull(), :]"
   ]
  },
  {
   "cell_type": "code",
   "execution_count": 14,
   "metadata": {},
   "outputs": [
    {
     "data": {
      "text/html": [
       "<div>\n",
       "<style scoped>\n",
       "    .dataframe tbody tr th:only-of-type {\n",
       "        vertical-align: middle;\n",
       "    }\n",
       "\n",
       "    .dataframe tbody tr th {\n",
       "        vertical-align: top;\n",
       "    }\n",
       "\n",
       "    .dataframe thead th {\n",
       "        text-align: right;\n",
       "    }\n",
       "</style>\n",
       "<table border=\"1\" class=\"dataframe\">\n",
       "  <thead>\n",
       "    <tr style=\"text-align: right;\">\n",
       "      <th></th>\n",
       "      <th>イベント</th>\n",
       "      <th>2001位</th>\n",
       "      <th>形式</th>\n",
       "      <th>日付</th>\n",
       "      <th>属性</th>\n",
       "      <th>期間</th>\n",
       "    </tr>\n",
       "  </thead>\n",
       "  <tbody>\n",
       "    <tr>\n",
       "      <th>0</th>\n",
       "      <td>Stage Bye Stage</td>\n",
       "      <td>178840</td>\n",
       "      <td>Carnival</td>\n",
       "      <td>2019-07-02</td>\n",
       "      <td>NaN</td>\n",
       "      <td>NaN</td>\n",
       "    </tr>\n",
       "    <tr>\n",
       "      <th>1</th>\n",
       "      <td>TRUE COLORS</td>\n",
       "      <td>176743</td>\n",
       "      <td>Carnival</td>\n",
       "      <td>2019-08-31</td>\n",
       "      <td>NaN</td>\n",
       "      <td>NaN</td>\n",
       "    </tr>\n",
       "    <tr>\n",
       "      <th>2</th>\n",
       "      <td>夢をのぞいたら</td>\n",
       "      <td>210672</td>\n",
       "      <td>Carnival</td>\n",
       "      <td>2020-01-01</td>\n",
       "      <td>NaN</td>\n",
       "      <td>NaN</td>\n",
       "    </tr>\n",
       "  </tbody>\n",
       "</table>\n",
       "</div>"
      ],
      "text/plain": [
       "              イベント   2001位        形式          日付   属性  期間\n",
       "0  Stage Bye Stage  178840  Carnival  2019-07-02  NaN NaN\n",
       "1      TRUE COLORS  176743  Carnival  2019-08-31  NaN NaN\n",
       "2          夢をのぞいたら  210672  Carnival  2020-01-01  NaN NaN"
      ]
     },
     "execution_count": 14,
     "metadata": {},
     "output_type": "execute_result"
    }
   ],
   "source": [
    "# Carnivalは期間が欠損\n",
    "df.loc[df['形式']=='Carnival', :]"
   ]
  },
  {
   "cell_type": "markdown",
   "metadata": {},
   "source": [
    "### 統計量・異常値"
   ]
  },
  {
   "cell_type": "code",
   "execution_count": 15,
   "metadata": {},
   "outputs": [
    {
     "data": {
      "text/html": [
       "<div>\n",
       "<style scoped>\n",
       "    .dataframe tbody tr th:only-of-type {\n",
       "        vertical-align: middle;\n",
       "    }\n",
       "\n",
       "    .dataframe tbody tr th {\n",
       "        vertical-align: top;\n",
       "    }\n",
       "\n",
       "    .dataframe thead th {\n",
       "        text-align: right;\n",
       "    }\n",
       "</style>\n",
       "<table border=\"1\" class=\"dataframe\">\n",
       "  <thead>\n",
       "    <tr style=\"text-align: right;\">\n",
       "      <th></th>\n",
       "      <th>イベント</th>\n",
       "      <th>2001位</th>\n",
       "      <th>形式</th>\n",
       "      <th>日付</th>\n",
       "      <th>属性</th>\n",
       "      <th>期間</th>\n",
       "    </tr>\n",
       "  </thead>\n",
       "  <tbody>\n",
       "    <tr>\n",
       "      <th>count</th>\n",
       "      <td>95</td>\n",
       "      <td>95.000000</td>\n",
       "      <td>95</td>\n",
       "      <td>95</td>\n",
       "      <td>32</td>\n",
       "      <td>92.000000</td>\n",
       "    </tr>\n",
       "    <tr>\n",
       "      <th>unique</th>\n",
       "      <td>95</td>\n",
       "      <td>NaN</td>\n",
       "      <td>3</td>\n",
       "      <td>95</td>\n",
       "      <td>3</td>\n",
       "      <td>NaN</td>\n",
       "    </tr>\n",
       "    <tr>\n",
       "      <th>top</th>\n",
       "      <td>情熱ファンファンファーレ</td>\n",
       "      <td>NaN</td>\n",
       "      <td>アタポン</td>\n",
       "      <td>2015-12-04</td>\n",
       "      <td>Vo</td>\n",
       "      <td>NaN</td>\n",
       "    </tr>\n",
       "    <tr>\n",
       "      <th>freq</th>\n",
       "      <td>1</td>\n",
       "      <td>NaN</td>\n",
       "      <td>60</td>\n",
       "      <td>1</td>\n",
       "      <td>11</td>\n",
       "      <td>NaN</td>\n",
       "    </tr>\n",
       "    <tr>\n",
       "      <th>mean</th>\n",
       "      <td>NaN</td>\n",
       "      <td>95234.442105</td>\n",
       "      <td>NaN</td>\n",
       "      <td>NaN</td>\n",
       "      <td>NaN</td>\n",
       "      <td>183.543478</td>\n",
       "    </tr>\n",
       "    <tr>\n",
       "      <th>std</th>\n",
       "      <td>NaN</td>\n",
       "      <td>42973.711653</td>\n",
       "      <td>NaN</td>\n",
       "      <td>NaN</td>\n",
       "      <td>NaN</td>\n",
       "      <td>19.116998</td>\n",
       "    </tr>\n",
       "    <tr>\n",
       "      <th>min</th>\n",
       "      <td>NaN</td>\n",
       "      <td>40096.000000</td>\n",
       "      <td>NaN</td>\n",
       "      <td>NaN</td>\n",
       "      <td>NaN</td>\n",
       "      <td>150.000000</td>\n",
       "    </tr>\n",
       "    <tr>\n",
       "      <th>25%</th>\n",
       "      <td>NaN</td>\n",
       "      <td>63761.500000</td>\n",
       "      <td>NaN</td>\n",
       "      <td>NaN</td>\n",
       "      <td>NaN</td>\n",
       "      <td>174.000000</td>\n",
       "    </tr>\n",
       "    <tr>\n",
       "      <th>50%</th>\n",
       "      <td>NaN</td>\n",
       "      <td>83532.000000</td>\n",
       "      <td>NaN</td>\n",
       "      <td>NaN</td>\n",
       "      <td>NaN</td>\n",
       "      <td>174.000000</td>\n",
       "    </tr>\n",
       "    <tr>\n",
       "      <th>75%</th>\n",
       "      <td>NaN</td>\n",
       "      <td>115178.500000</td>\n",
       "      <td>NaN</td>\n",
       "      <td>NaN</td>\n",
       "      <td>NaN</td>\n",
       "      <td>198.000000</td>\n",
       "    </tr>\n",
       "    <tr>\n",
       "      <th>max</th>\n",
       "      <td>NaN</td>\n",
       "      <td>224697.000000</td>\n",
       "      <td>NaN</td>\n",
       "      <td>NaN</td>\n",
       "      <td>NaN</td>\n",
       "      <td>249.000000</td>\n",
       "    </tr>\n",
       "  </tbody>\n",
       "</table>\n",
       "</div>"
      ],
      "text/plain": [
       "                イベント          2001位    形式          日付   属性          期間\n",
       "count             95      95.000000    95          95   32   92.000000\n",
       "unique            95            NaN     3          95    3         NaN\n",
       "top     情熱ファンファンファーレ            NaN  アタポン  2015-12-04   Vo         NaN\n",
       "freq               1            NaN    60           1   11         NaN\n",
       "mean             NaN   95234.442105   NaN         NaN  NaN  183.543478\n",
       "std              NaN   42973.711653   NaN         NaN  NaN   19.116998\n",
       "min              NaN   40096.000000   NaN         NaN  NaN  150.000000\n",
       "25%              NaN   63761.500000   NaN         NaN  NaN  174.000000\n",
       "50%              NaN   83532.000000   NaN         NaN  NaN  174.000000\n",
       "75%              NaN  115178.500000   NaN         NaN  NaN  198.000000\n",
       "max              NaN  224697.000000   NaN         NaN  NaN  249.000000"
      ]
     },
     "execution_count": 15,
     "metadata": {},
     "output_type": "execute_result"
    }
   ],
   "source": [
    "# イベント名 - 重複なし\n",
    "# 2001位ボーダー - 異常値はない。中央値よりも平均値が高め\n",
    "# 形式 - 3種類。最大で60個重複\n",
    "# 日付 - 重複なし\n",
    "# 属性 - 3種類。最大で11個重複\n",
    "# 期間 - 異常値はない。中央値よりも平均値が高め\n",
    "df.describe(include='all')"
   ]
  },
  {
   "cell_type": "markdown",
   "metadata": {},
   "source": [
    "### 分布確認"
   ]
  },
  {
   "cell_type": "code",
   "execution_count": 16,
   "metadata": {},
   "outputs": [
    {
     "data": {
      "text/plain": [
       "<matplotlib.axes._subplots.AxesSubplot at 0x211e66e8d30>"
      ]
     },
     "execution_count": 16,
     "metadata": {},
     "output_type": "execute_result"
    },
    {
     "data": {
      "image/png": "[encoded data removed]",
      "text/plain": [
       "<Figure size 432x288 with 1 Axes>"
      ]
     },
     "metadata": {
      "needs_background": "light"
     },
     "output_type": "display_data"
    }
   ],
   "source": [
    "# 2001位ボーダー\n",
    "# 右に裾が長い\n",
    "df['2001位'].plot(kind='hist')"
   ]
  },
  {
   "cell_type": "code",
   "execution_count": 17,
   "metadata": {},
   "outputs": [
    {
     "data": {
      "image/png": "[encoded data removed]",
      "text/plain": [
       "<Figure size 432x288 with 1 Axes>"
      ]
     },
     "metadata": {
      "needs_background": "light"
     },
     "output_type": "display_data"
    }
   ],
   "source": [
    "# 2001位ボーダー\n",
    "# 形式ごとにプロット\n",
    "events = df['形式'].unique()\n",
    "fig = plt.figure()\n",
    "ax = fig.add_subplot(111)\n",
    "\n",
    "for event in events:\n",
    "    df.loc[df['形式'] == event, '2001位'].plot(kind='hist', label=event, alpha=0.5)\n",
    "    \n",
    "ax.legend(prop={\"family\":\"MS Gothic\"})\n",
    "plt.show()"
   ]
  },
  {
   "cell_type": "code",
   "execution_count": 18,
   "metadata": {},
   "outputs": [
    {
     "data": {
      "text/html": [
       "<div>\n",
       "<style scoped>\n",
       "    .dataframe tbody tr th:only-of-type {\n",
       "        vertical-align: middle;\n",
       "    }\n",
       "\n",
       "    .dataframe tbody tr th {\n",
       "        vertical-align: top;\n",
       "    }\n",
       "\n",
       "    .dataframe thead th {\n",
       "        text-align: right;\n",
       "    }\n",
       "</style>\n",
       "<table border=\"1\" class=\"dataframe\">\n",
       "  <thead>\n",
       "    <tr style=\"text-align: right;\">\n",
       "      <th></th>\n",
       "      <th>イベント</th>\n",
       "      <th>2001位</th>\n",
       "      <th>形式</th>\n",
       "      <th>日付</th>\n",
       "      <th>期間</th>\n",
       "    </tr>\n",
       "    <tr>\n",
       "      <th>属性</th>\n",
       "      <th></th>\n",
       "      <th></th>\n",
       "      <th></th>\n",
       "      <th></th>\n",
       "      <th></th>\n",
       "    </tr>\n",
       "  </thead>\n",
       "  <tbody>\n",
       "    <tr>\n",
       "      <th>Da</th>\n",
       "      <td>10</td>\n",
       "      <td>10</td>\n",
       "      <td>10</td>\n",
       "      <td>10</td>\n",
       "      <td>10</td>\n",
       "    </tr>\n",
       "    <tr>\n",
       "      <th>Vi</th>\n",
       "      <td>11</td>\n",
       "      <td>11</td>\n",
       "      <td>11</td>\n",
       "      <td>11</td>\n",
       "      <td>11</td>\n",
       "    </tr>\n",
       "    <tr>\n",
       "      <th>Vo</th>\n",
       "      <td>11</td>\n",
       "      <td>11</td>\n",
       "      <td>11</td>\n",
       "      <td>11</td>\n",
       "      <td>11</td>\n",
       "    </tr>\n",
       "  </tbody>\n",
       "</table>\n",
       "</div>"
      ],
      "text/plain": [
       "    イベント  2001位  形式  日付  期間\n",
       "属性                         \n",
       "Da    10     10  10  10  10\n",
       "Vi    11     11  11  11  11\n",
       "Vo    11     11  11  11  11"
      ]
     },
     "execution_count": 18,
     "metadata": {},
     "output_type": "execute_result"
    }
   ],
   "source": [
    "# 属性\n",
    "# Groove以外はなし\n",
    "# Grooveは結構平等\n",
    "df.groupby('属性').count()"
   ]
  },
  {
   "cell_type": "code",
   "execution_count": 19,
   "metadata": {},
   "outputs": [
    {
     "data": {
      "text/html": [
       "<div>\n",
       "<style scoped>\n",
       "    .dataframe tbody tr th:only-of-type {\n",
       "        vertical-align: middle;\n",
       "    }\n",
       "\n",
       "    .dataframe tbody tr th {\n",
       "        vertical-align: top;\n",
       "    }\n",
       "\n",
       "    .dataframe thead th {\n",
       "        text-align: right;\n",
       "    }\n",
       "</style>\n",
       "<table border=\"1\" class=\"dataframe\">\n",
       "  <thead>\n",
       "    <tr style=\"text-align: right;\">\n",
       "      <th></th>\n",
       "      <th>イベント</th>\n",
       "      <th>2001位</th>\n",
       "      <th>日付</th>\n",
       "      <th>属性</th>\n",
       "      <th>期間</th>\n",
       "    </tr>\n",
       "    <tr>\n",
       "      <th>形式</th>\n",
       "      <th></th>\n",
       "      <th></th>\n",
       "      <th></th>\n",
       "      <th></th>\n",
       "      <th></th>\n",
       "    </tr>\n",
       "  </thead>\n",
       "  <tbody>\n",
       "    <tr>\n",
       "      <th>Carnival</th>\n",
       "      <td>3</td>\n",
       "      <td>3</td>\n",
       "      <td>3</td>\n",
       "      <td>0</td>\n",
       "      <td>0</td>\n",
       "    </tr>\n",
       "    <tr>\n",
       "      <th>Groove</th>\n",
       "      <td>32</td>\n",
       "      <td>32</td>\n",
       "      <td>32</td>\n",
       "      <td>32</td>\n",
       "      <td>32</td>\n",
       "    </tr>\n",
       "    <tr>\n",
       "      <th>アタポン</th>\n",
       "      <td>60</td>\n",
       "      <td>60</td>\n",
       "      <td>60</td>\n",
       "      <td>0</td>\n",
       "      <td>60</td>\n",
       "    </tr>\n",
       "  </tbody>\n",
       "</table>\n",
       "</div>"
      ],
      "text/plain": [
       "          イベント  2001位  日付  属性  期間\n",
       "形式                               \n",
       "Carnival     3      3   3   0   0\n",
       "Groove      32     32  32  32  32\n",
       "アタポン        60     60  60   0  60"
      ]
     },
     "execution_count": 19,
     "metadata": {},
     "output_type": "execute_result"
    }
   ],
   "source": [
    "# 形式\n",
    "df.groupby('形式').count()"
   ]
  },
  {
   "cell_type": "code",
   "execution_count": 20,
   "metadata": {},
   "outputs": [
    {
     "data": {
      "text/plain": [
       "<matplotlib.axes._subplots.AxesSubplot at 0x211e710ae80>"
      ]
     },
     "execution_count": 20,
     "metadata": {},
     "output_type": "execute_result"
    },
    {
     "data": {
      "image/png": "[encoded data removed]",
      "text/plain": [
       "<Figure size 432x288 with 1 Axes>"
      ]
     },
     "metadata": {
      "needs_background": "light"
     },
     "output_type": "display_data"
    }
   ],
   "source": [
    "# 期間\n",
    "df['期間'].plot(kind='hist')"
   ]
  },
  {
   "cell_type": "code",
   "execution_count": 21,
   "metadata": {},
   "outputs": [
    {
     "data": {
      "image/png": "[encoded data removed]",
      "text/plain": [
       "<Figure size 432x288 with 1 Axes>"
      ]
     },
     "metadata": {
      "needs_background": "light"
     },
     "output_type": "display_data"
    }
   ],
   "source": [
    "# 期間\n",
    "# 形式ごとにプロット\n",
    "events = df['形式'].unique()\n",
    "fig = plt.figure()\n",
    "ax = fig.add_subplot(111)\n",
    "\n",
    "for event in events:\n",
    "    df.loc[df['形式'] == event, '期間'].plot(kind='hist', label=event, alpha=0.5)\n",
    "    \n",
    "ax.legend(prop={\"family\":\"MS Gothic\"})\n",
    "plt.show()"
   ]
  },
  {
   "cell_type": "code",
   "execution_count": null,
   "metadata": {},
   "outputs": [],
   "source": []
  }
 ],
 "metadata": {
  "kernelspec": {
   "display_name": "Python 3",
   "language": "python",
   "name": "python3"
  },
  "language_info": {
   "codemirror_mode": {
    "name": "ipython",
    "version": 3
   },
   "file_extension": ".py",
   "mimetype": "text/x-python",
   "name": "python",
   "nbconvert_exporter": "python",
   "pygments_lexer": "ipython3",
   "version": "3.7.1"
  }
 },
 "nbformat": 4,
 "nbformat_minor": 4
}
