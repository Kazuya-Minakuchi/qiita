{
 "cells": [
  {
   "cell_type": "markdown",
   "metadata": {},
   "source": [
    "# 基礎集計"
   ]
  },
  {
   "cell_type": "markdown",
   "metadata": {},
   "source": [
    "**このノートブックでやること**\n",
    "* 基礎集計、可視化"
   ]
  },
  {
   "cell_type": "markdown",
   "metadata": {},
   "source": [
    "## インポート"
   ]
  },
  {
   "cell_type": "code",
   "execution_count": 1,
   "metadata": {},
   "outputs": [],
   "source": [
    "import numpy as np\n",
    "import pandas as pd\n",
    "import datetime\n",
    "import matplotlib as mpl\n",
    "import matplotlib.pyplot as plt\n",
    "import seaborn as sns\n",
    "\n",
    "sns.set(font=['IPAMincho'])"
   ]
  },
  {
   "cell_type": "markdown",
   "metadata": {},
   "source": [
    "## イベントデータ読み込み"
   ]
  },
  {
   "cell_type": "code",
   "execution_count": 2,
   "metadata": {},
   "outputs": [],
   "source": [
    "input_dir = '../event_data/'"
   ]
  },
  {
   "cell_type": "code",
   "execution_count": 3,
   "metadata": {},
   "outputs": [
    {
     "data": {
      "text/html": [
       "<div>\n",
       "<style scoped>\n",
       "    .dataframe tbody tr th:only-of-type {\n",
       "        vertical-align: middle;\n",
       "    }\n",
       "\n",
       "    .dataframe tbody tr th {\n",
       "        vertical-align: top;\n",
       "    }\n",
       "\n",
       "    .dataframe thead th {\n",
       "        text-align: right;\n",
       "    }\n",
       "</style>\n",
       "<table border=\"1\" class=\"dataframe\">\n",
       "  <thead>\n",
       "    <tr style=\"text-align: right;\">\n",
       "      <th></th>\n",
       "      <th>イベント</th>\n",
       "      <th>2001位</th>\n",
       "      <th>形式</th>\n",
       "      <th>日付</th>\n",
       "      <th>属性</th>\n",
       "      <th>期間</th>\n",
       "    </tr>\n",
       "  </thead>\n",
       "  <tbody>\n",
       "    <tr>\n",
       "      <th>0</th>\n",
       "      <td>Stage Bye Stage</td>\n",
       "      <td>178840</td>\n",
       "      <td>Carnival</td>\n",
       "      <td>2019-07-02</td>\n",
       "      <td>NaN</td>\n",
       "      <td>NaN</td>\n",
       "    </tr>\n",
       "    <tr>\n",
       "      <th>1</th>\n",
       "      <td>TRUE COLORS</td>\n",
       "      <td>176743</td>\n",
       "      <td>Carnival</td>\n",
       "      <td>2019-08-31</td>\n",
       "      <td>NaN</td>\n",
       "      <td>NaN</td>\n",
       "    </tr>\n",
       "    <tr>\n",
       "      <th>2</th>\n",
       "      <td>夢をのぞいたら</td>\n",
       "      <td>210672</td>\n",
       "      <td>Carnival</td>\n",
       "      <td>2020-01-01</td>\n",
       "      <td>NaN</td>\n",
       "      <td>NaN</td>\n",
       "    </tr>\n",
       "    <tr>\n",
       "      <th>3</th>\n",
       "      <td>夢色ハーモニー</td>\n",
       "      <td>45587</td>\n",
       "      <td>Groove</td>\n",
       "      <td>2015-10-31</td>\n",
       "      <td>Vo</td>\n",
       "      <td>198.0</td>\n",
       "    </tr>\n",
       "    <tr>\n",
       "      <th>4</th>\n",
       "      <td>流れ星キセキ</td>\n",
       "      <td>48673</td>\n",
       "      <td>Groove</td>\n",
       "      <td>2015-12-04</td>\n",
       "      <td>Vo</td>\n",
       "      <td>222.0</td>\n",
       "    </tr>\n",
       "    <tr>\n",
       "      <th>...</th>\n",
       "      <td>...</td>\n",
       "      <td>...</td>\n",
       "      <td>...</td>\n",
       "      <td>...</td>\n",
       "      <td>...</td>\n",
       "      <td>...</td>\n",
       "    </tr>\n",
       "    <tr>\n",
       "      <th>90</th>\n",
       "      <td>Athanasia</td>\n",
       "      <td>75775</td>\n",
       "      <td>アタポン</td>\n",
       "      <td>2020-04-20</td>\n",
       "      <td>NaN</td>\n",
       "      <td>174.0</td>\n",
       "    </tr>\n",
       "    <tr>\n",
       "      <th>91</th>\n",
       "      <td>不埒なCANVAS</td>\n",
       "      <td>188652</td>\n",
       "      <td>アタポン</td>\n",
       "      <td>2020-05-19</td>\n",
       "      <td>NaN</td>\n",
       "      <td>198.0</td>\n",
       "    </tr>\n",
       "    <tr>\n",
       "      <th>92</th>\n",
       "      <td>Sing the Prologue♪</td>\n",
       "      <td>85574</td>\n",
       "      <td>アタポン</td>\n",
       "      <td>2020-06-19</td>\n",
       "      <td>NaN</td>\n",
       "      <td>174.0</td>\n",
       "    </tr>\n",
       "    <tr>\n",
       "      <th>93</th>\n",
       "      <td>太陽の絵の具箱</td>\n",
       "      <td>107142</td>\n",
       "      <td>アタポン</td>\n",
       "      <td>2020-07-20</td>\n",
       "      <td>NaN</td>\n",
       "      <td>174.0</td>\n",
       "    </tr>\n",
       "    <tr>\n",
       "      <th>94</th>\n",
       "      <td>ヒーローヴァーサスレイナンジョー</td>\n",
       "      <td>60211</td>\n",
       "      <td>アタポン</td>\n",
       "      <td>2020-08-19</td>\n",
       "      <td>NaN</td>\n",
       "      <td>174.0</td>\n",
       "    </tr>\n",
       "  </tbody>\n",
       "</table>\n",
       "<p>95 rows × 6 columns</p>\n",
       "</div>"
      ],
      "text/plain": [
       "                  イベント   2001位        形式          日付   属性     期間\n",
       "0      Stage Bye Stage  178840  Carnival  2019-07-02  NaN    NaN\n",
       "1          TRUE COLORS  176743  Carnival  2019-08-31  NaN    NaN\n",
       "2              夢をのぞいたら  210672  Carnival  2020-01-01  NaN    NaN\n",
       "3              夢色ハーモニー   45587    Groove  2015-10-31   Vo  198.0\n",
       "4               流れ星キセキ   48673    Groove  2015-12-04   Vo  222.0\n",
       "..                 ...     ...       ...         ...  ...    ...\n",
       "90           Athanasia   75775      アタポン  2020-04-20  NaN  174.0\n",
       "91           不埒なCANVAS  188652      アタポン  2020-05-19  NaN  198.0\n",
       "92  Sing the Prologue♪   85574      アタポン  2020-06-19  NaN  174.0\n",
       "93             太陽の絵の具箱  107142      アタポン  2020-07-20  NaN  174.0\n",
       "94    ヒーローヴァーサスレイナンジョー   60211      アタポン  2020-08-19  NaN  174.0\n",
       "\n",
       "[95 rows x 6 columns]"
      ]
     },
     "execution_count": 3,
     "metadata": {},
     "output_type": "execute_result"
    }
   ],
   "source": [
    "df = pd.read_pickle(input_dir + 'a3_output_df.pkl')\n",
    "df"
   ]
  },
  {
   "cell_type": "markdown",
   "metadata": {},
   "source": [
    "## 基礎集計・可視化"
   ]
  },
  {
   "cell_type": "markdown",
   "metadata": {},
   "source": [
    "### 形式"
   ]
  },
  {
   "cell_type": "code",
   "execution_count": 4,
   "metadata": {},
   "outputs": [
    {
     "data": {
      "text/html": [
       "<div>\n",
       "<style scoped>\n",
       "    .dataframe tbody tr th:only-of-type {\n",
       "        vertical-align: middle;\n",
       "    }\n",
       "\n",
       "    .dataframe tbody tr th {\n",
       "        vertical-align: top;\n",
       "    }\n",
       "\n",
       "    .dataframe thead th {\n",
       "        text-align: right;\n",
       "    }\n",
       "</style>\n",
       "<table border=\"1\" class=\"dataframe\">\n",
       "  <thead>\n",
       "    <tr style=\"text-align: right;\">\n",
       "      <th></th>\n",
       "      <th>形式</th>\n",
       "      <th>Carnival</th>\n",
       "      <th>Groove</th>\n",
       "      <th>アタポン</th>\n",
       "    </tr>\n",
       "  </thead>\n",
       "  <tbody>\n",
       "    <tr>\n",
       "      <th rowspan=\"8\" valign=\"top\">2001位</th>\n",
       "      <th>count</th>\n",
       "      <td>3.000000</td>\n",
       "      <td>32.00000</td>\n",
       "      <td>60.000000</td>\n",
       "    </tr>\n",
       "    <tr>\n",
       "      <th>mean</th>\n",
       "      <td>188751.666667</td>\n",
       "      <td>87048.56250</td>\n",
       "      <td>94924.383333</td>\n",
       "    </tr>\n",
       "    <tr>\n",
       "      <th>std</th>\n",
       "      <td>19012.498845</td>\n",
       "      <td>35318.85284</td>\n",
       "      <td>42349.249956</td>\n",
       "    </tr>\n",
       "    <tr>\n",
       "      <th>min</th>\n",
       "      <td>176743.000000</td>\n",
       "      <td>40096.00000</td>\n",
       "      <td>42944.000000</td>\n",
       "    </tr>\n",
       "    <tr>\n",
       "      <th>25%</th>\n",
       "      <td>177791.500000</td>\n",
       "      <td>52942.50000</td>\n",
       "      <td>67515.750000</td>\n",
       "    </tr>\n",
       "    <tr>\n",
       "      <th>50%</th>\n",
       "      <td>178840.000000</td>\n",
       "      <td>84560.00000</td>\n",
       "      <td>80589.500000</td>\n",
       "    </tr>\n",
       "    <tr>\n",
       "      <th>75%</th>\n",
       "      <td>194756.000000</td>\n",
       "      <td>114458.00000</td>\n",
       "      <td>112983.000000</td>\n",
       "    </tr>\n",
       "    <tr>\n",
       "      <th>max</th>\n",
       "      <td>210672.000000</td>\n",
       "      <td>170014.00000</td>\n",
       "      <td>224697.000000</td>\n",
       "    </tr>\n",
       "    <tr>\n",
       "      <th rowspan=\"8\" valign=\"top\">期間</th>\n",
       "      <th>count</th>\n",
       "      <td>0.000000</td>\n",
       "      <td>32.00000</td>\n",
       "      <td>60.000000</td>\n",
       "    </tr>\n",
       "    <tr>\n",
       "      <th>mean</th>\n",
       "      <td>NaN</td>\n",
       "      <td>188.34375</td>\n",
       "      <td>180.983333</td>\n",
       "    </tr>\n",
       "    <tr>\n",
       "      <th>std</th>\n",
       "      <td>NaN</td>\n",
       "      <td>18.07620</td>\n",
       "      <td>19.308812</td>\n",
       "    </tr>\n",
       "    <tr>\n",
       "      <th>min</th>\n",
       "      <td>NaN</td>\n",
       "      <td>174.00000</td>\n",
       "      <td>150.000000</td>\n",
       "    </tr>\n",
       "    <tr>\n",
       "      <th>25%</th>\n",
       "      <td>NaN</td>\n",
       "      <td>174.00000</td>\n",
       "      <td>174.000000</td>\n",
       "    </tr>\n",
       "    <tr>\n",
       "      <th>50%</th>\n",
       "      <td>NaN</td>\n",
       "      <td>174.00000</td>\n",
       "      <td>174.000000</td>\n",
       "    </tr>\n",
       "    <tr>\n",
       "      <th>75%</th>\n",
       "      <td>NaN</td>\n",
       "      <td>198.00000</td>\n",
       "      <td>198.000000</td>\n",
       "    </tr>\n",
       "    <tr>\n",
       "      <th>max</th>\n",
       "      <td>NaN</td>\n",
       "      <td>222.00000</td>\n",
       "      <td>249.000000</td>\n",
       "    </tr>\n",
       "  </tbody>\n",
       "</table>\n",
       "</div>"
      ],
      "text/plain": [
       "形式                Carnival        Groove           アタポン\n",
       "2001位 count       3.000000      32.00000      60.000000\n",
       "      mean   188751.666667   87048.56250   94924.383333\n",
       "      std     19012.498845   35318.85284   42349.249956\n",
       "      min    176743.000000   40096.00000   42944.000000\n",
       "      25%    177791.500000   52942.50000   67515.750000\n",
       "      50%    178840.000000   84560.00000   80589.500000\n",
       "      75%    194756.000000  114458.00000  112983.000000\n",
       "      max    210672.000000  170014.00000  224697.000000\n",
       "期間    count       0.000000      32.00000      60.000000\n",
       "      mean             NaN     188.34375     180.983333\n",
       "      std              NaN      18.07620      19.308812\n",
       "      min              NaN     174.00000     150.000000\n",
       "      25%              NaN     174.00000     174.000000\n",
       "      50%              NaN     174.00000     174.000000\n",
       "      75%              NaN     198.00000     198.000000\n",
       "      max              NaN     222.00000     249.000000"
      ]
     },
     "execution_count": 4,
     "metadata": {},
     "output_type": "execute_result"
    }
   ],
   "source": [
    "# 形式別\n",
    "# --Carnival--\n",
    "# データ3つのみ\n",
    "# - 2001位: 平均値が他2つの2倍くらい\n",
    "# - 期間: データなし\n",
    "# --Groove--\n",
    "# - 2001位: 全体的に一番低め。中央値 < 平均値。\n",
    "# - 期間: 半分以上は174。\n",
    "# --アタポン--\n",
    "# - 2001位: 3つの形式では真ん中。中央値 < 平均値。\n",
    "# - 期間: minはGrooveより小さく、maxはGrooveより大きい\n",
    "df.groupby('形式').describe().T"
   ]
  },
  {
   "cell_type": "code",
   "execution_count": 6,
   "metadata": {},
   "outputs": [
    {
     "data": {
      "text/plain": [
       "<matplotlib.axes._subplots.AxesSubplot at 0x20440f137f0>"
      ]
     },
     "execution_count": 6,
     "metadata": {},
     "output_type": "execute_result"
    },
    {
     "data": {
      "image/png": "[encoded data removed]",
      "text/plain": [
       "<Figure size 432x288 with 1 Axes>"
      ]
     },
     "metadata": {},
     "output_type": "display_data"
    }
   ],
   "source": [
    "# 形式vs2001位ボーダー\n",
    "fig = plt.figure()\n",
    "ax = fig.add_subplot(1, 1, 1)\n",
    "sns.set(font='Yu Gothic')\n",
    "sns.boxplot(x='形式', y='2001位', data=df, ax=ax)"
   ]
  },
  {
   "cell_type": "code",
   "execution_count": 7,
   "metadata": {},
   "outputs": [
    {
     "data": {
      "text/plain": [
       "<matplotlib.axes._subplots.AxesSubplot at 0x20440f133c8>"
      ]
     },
     "execution_count": 7,
     "metadata": {},
     "output_type": "execute_result"
    },
    {
     "data": {
      "image/png": "[encoded data removed]",
      "text/plain": [
       "<Figure size 432x288 with 1 Axes>"
      ]
     },
     "metadata": {},
     "output_type": "display_data"
    }
   ],
   "source": [
    "# 形式vs期間\n",
    "# - Carnivalは期間データなし\n",
    "fig = plt.figure()\n",
    "ax = fig.add_subplot(1, 1, 1)\n",
    "sns.set(font='Yu Gothic')\n",
    "sns.boxplot(x='形式', y='期間', data=df, ax=ax)"
   ]
  },
  {
   "cell_type": "markdown",
   "metadata": {},
   "source": [
    "### 属性"
   ]
  },
  {
   "cell_type": "code",
   "execution_count": 8,
   "metadata": {},
   "outputs": [
    {
     "data": {
      "text/html": [
       "<div>\n",
       "<style scoped>\n",
       "    .dataframe tbody tr th:only-of-type {\n",
       "        vertical-align: middle;\n",
       "    }\n",
       "\n",
       "    .dataframe tbody tr th {\n",
       "        vertical-align: top;\n",
       "    }\n",
       "\n",
       "    .dataframe thead th {\n",
       "        text-align: right;\n",
       "    }\n",
       "</style>\n",
       "<table border=\"1\" class=\"dataframe\">\n",
       "  <thead>\n",
       "    <tr style=\"text-align: right;\">\n",
       "      <th></th>\n",
       "      <th>属性</th>\n",
       "      <th>Da</th>\n",
       "      <th>Vi</th>\n",
       "      <th>Vo</th>\n",
       "    </tr>\n",
       "  </thead>\n",
       "  <tbody>\n",
       "    <tr>\n",
       "      <th rowspan=\"8\" valign=\"top\">2001位</th>\n",
       "      <th>count</th>\n",
       "      <td>10.000000</td>\n",
       "      <td>11.000000</td>\n",
       "      <td>11.000000</td>\n",
       "    </tr>\n",
       "    <tr>\n",
       "      <th>mean</th>\n",
       "      <td>81120.200000</td>\n",
       "      <td>92813.272727</td>\n",
       "      <td>86673.272727</td>\n",
       "    </tr>\n",
       "    <tr>\n",
       "      <th>std</th>\n",
       "      <td>32024.021240</td>\n",
       "      <td>38595.894046</td>\n",
       "      <td>37182.301884</td>\n",
       "    </tr>\n",
       "    <tr>\n",
       "      <th>min</th>\n",
       "      <td>40096.000000</td>\n",
       "      <td>46300.000000</td>\n",
       "      <td>42544.000000</td>\n",
       "    </tr>\n",
       "    <tr>\n",
       "      <th>25%</th>\n",
       "      <td>54767.250000</td>\n",
       "      <td>64639.500000</td>\n",
       "      <td>49871.000000</td>\n",
       "    </tr>\n",
       "    <tr>\n",
       "      <th>50%</th>\n",
       "      <td>78106.500000</td>\n",
       "      <td>82143.000000</td>\n",
       "      <td>100476.000000</td>\n",
       "    </tr>\n",
       "    <tr>\n",
       "      <th>75%</th>\n",
       "      <td>110899.250000</td>\n",
       "      <td>110700.000000</td>\n",
       "      <td>118864.500000</td>\n",
       "    </tr>\n",
       "    <tr>\n",
       "      <th>max</th>\n",
       "      <td>127482.000000</td>\n",
       "      <td>170014.000000</td>\n",
       "      <td>140000.000000</td>\n",
       "    </tr>\n",
       "    <tr>\n",
       "      <th rowspan=\"8\" valign=\"top\">期間</th>\n",
       "      <th>count</th>\n",
       "      <td>10.000000</td>\n",
       "      <td>11.000000</td>\n",
       "      <td>11.000000</td>\n",
       "    </tr>\n",
       "    <tr>\n",
       "      <th>mean</th>\n",
       "      <td>183.600000</td>\n",
       "      <td>189.545455</td>\n",
       "      <td>191.454545</td>\n",
       "    </tr>\n",
       "    <tr>\n",
       "      <th>std</th>\n",
       "      <td>16.780942</td>\n",
       "      <td>19.200852</td>\n",
       "      <td>18.869889</td>\n",
       "    </tr>\n",
       "    <tr>\n",
       "      <th>min</th>\n",
       "      <td>174.000000</td>\n",
       "      <td>174.000000</td>\n",
       "      <td>174.000000</td>\n",
       "    </tr>\n",
       "    <tr>\n",
       "      <th>25%</th>\n",
       "      <td>174.000000</td>\n",
       "      <td>174.000000</td>\n",
       "      <td>174.000000</td>\n",
       "    </tr>\n",
       "    <tr>\n",
       "      <th>50%</th>\n",
       "      <td>174.000000</td>\n",
       "      <td>177.000000</td>\n",
       "      <td>198.000000</td>\n",
       "    </tr>\n",
       "    <tr>\n",
       "      <th>75%</th>\n",
       "      <td>192.000000</td>\n",
       "      <td>198.000000</td>\n",
       "      <td>198.000000</td>\n",
       "    </tr>\n",
       "    <tr>\n",
       "      <th>max</th>\n",
       "      <td>222.000000</td>\n",
       "      <td>222.000000</td>\n",
       "      <td>222.000000</td>\n",
       "    </tr>\n",
       "  </tbody>\n",
       "</table>\n",
       "</div>"
      ],
      "text/plain": [
       "属性                      Da             Vi             Vo\n",
       "2001位 count      10.000000      11.000000      11.000000\n",
       "      mean    81120.200000   92813.272727   86673.272727\n",
       "      std     32024.021240   38595.894046   37182.301884\n",
       "      min     40096.000000   46300.000000   42544.000000\n",
       "      25%     54767.250000   64639.500000   49871.000000\n",
       "      50%     78106.500000   82143.000000  100476.000000\n",
       "      75%    110899.250000  110700.000000  118864.500000\n",
       "      max    127482.000000  170014.000000  140000.000000\n",
       "期間    count      10.000000      11.000000      11.000000\n",
       "      mean      183.600000     189.545455     191.454545\n",
       "      std        16.780942      19.200852      18.869889\n",
       "      min       174.000000     174.000000     174.000000\n",
       "      25%       174.000000     174.000000     174.000000\n",
       "      50%       174.000000     177.000000     198.000000\n",
       "      75%       192.000000     198.000000     198.000000\n",
       "      max       222.000000     222.000000     222.000000"
      ]
     },
     "execution_count": 8,
     "metadata": {},
     "output_type": "execute_result"
    }
   ],
   "source": [
    "# 属性別\n",
    "# 属性があるのはGrooveのみ\n",
    "# --Da--\n",
    "# - 2001位: min, mid, maxすべて一番小さい\n",
    "# --Vi--\n",
    "# - 2001位: 全体的に一番大きい。75%値だけ一番小さい\n",
    "# --Vo--\n",
    "# - 2001位: 中間くらい。25%値は一番小さい。75%値は一番大きい\n",
    "df.groupby('属性').describe().T"
   ]
  },
  {
   "cell_type": "code",
   "execution_count": 9,
   "metadata": {},
   "outputs": [
    {
     "data": {
      "text/plain": [
       "<matplotlib.axes._subplots.AxesSubplot at 0x2044101fb70>"
      ]
     },
     "execution_count": 9,
     "metadata": {},
     "output_type": "execute_result"
    },
    {
     "data": {
      "image/png": "[encoded data removed]",
      "text/plain": [
       "<Figure size 432x288 with 1 Axes>"
      ]
     },
     "metadata": {},
     "output_type": "display_data"
    }
   ],
   "source": [
    "# 属性vs2001位ボーダー\n",
    "# 属性があるのはGrooveのみ\n",
    "fig = plt.figure()\n",
    "ax = fig.add_subplot(1, 1, 1)\n",
    "sns.set(font='Yu Gothic')\n",
    "sns.boxplot(x='属性', y='2001位', data=df[df['形式']=='Groove'], ax=ax)"
   ]
  },
  {
   "cell_type": "markdown",
   "metadata": {},
   "source": [
    "### 期間"
   ]
  },
  {
   "cell_type": "code",
   "execution_count": 10,
   "metadata": {},
   "outputs": [
    {
     "data": {
      "text/html": [
       "<div>\n",
       "<style scoped>\n",
       "    .dataframe tbody tr th:only-of-type {\n",
       "        vertical-align: middle;\n",
       "    }\n",
       "\n",
       "    .dataframe tbody tr th {\n",
       "        vertical-align: top;\n",
       "    }\n",
       "\n",
       "    .dataframe thead th {\n",
       "        text-align: right;\n",
       "    }\n",
       "</style>\n",
       "<table border=\"1\" class=\"dataframe\">\n",
       "  <thead>\n",
       "    <tr style=\"text-align: right;\">\n",
       "      <th></th>\n",
       "      <th>2001位</th>\n",
       "      <th>期間</th>\n",
       "    </tr>\n",
       "  </thead>\n",
       "  <tbody>\n",
       "    <tr>\n",
       "      <th>2001位</th>\n",
       "      <td>1.000000</td>\n",
       "      <td>-0.126082</td>\n",
       "    </tr>\n",
       "    <tr>\n",
       "      <th>期間</th>\n",
       "      <td>-0.126082</td>\n",
       "      <td>1.000000</td>\n",
       "    </tr>\n",
       "  </tbody>\n",
       "</table>\n",
       "</div>"
      ],
      "text/plain": [
       "          2001位        期間\n",
       "2001位  1.000000 -0.126082\n",
       "期間    -0.126082  1.000000"
      ]
     },
     "execution_count": 10,
     "metadata": {},
     "output_type": "execute_result"
    }
   ],
   "source": [
    "# 数値データの相関行列\n",
    "# 相関はなさそう\n",
    "df.corr()"
   ]
  },
  {
   "cell_type": "code",
   "execution_count": 11,
   "metadata": {},
   "outputs": [
    {
     "data": {
      "image/png": "[encoded data removed]",
      "text/plain": [
       "<Figure size 432x288 with 1 Axes>"
      ]
     },
     "metadata": {},
     "output_type": "display_data"
    }
   ],
   "source": [
    "# 期間vs2001位ボーダー\n",
    "# 期間が長いほどボーダーが高いかと思ったが、そうでもない\n",
    "fig = plt.figure()\n",
    "ax = fig.add_subplot(111)\n",
    "x = df.loc[:, '期間']\n",
    "y = df.loc[:, '2001位']\n",
    "ax.scatter(x, y)\n",
    "plt.show()"
   ]
  },
  {
   "cell_type": "code",
   "execution_count": 12,
   "metadata": {},
   "outputs": [
    {
     "data": {
      "image/png": "[encoded data removed]",
      "text/plain": [
       "<Figure size 432x288 with 1 Axes>"
      ]
     },
     "metadata": {},
     "output_type": "display_data"
    }
   ],
   "source": [
    "# 期間vs2001位ボーダー\n",
    "# 形式ごとに色分けしてプロット\n",
    "events = df['形式'].unique()\n",
    "fig = plt.figure()\n",
    "ax = fig.add_subplot(111)\n",
    "\n",
    "for event in events:\n",
    "    x = df.loc[df['形式'] == event, '期間']\n",
    "    y = df.loc[df['形式'] == event, '2001位']\n",
    "    ax.scatter(x, y, label=event, alpha=0.5)\n",
    "    \n",
    "ax.legend(prop={\"family\":\"MS Gothic\"})\n",
    "plt.show()"
   ]
  },
  {
   "cell_type": "markdown",
   "metadata": {},
   "source": [
    "### 日付"
   ]
  },
  {
   "cell_type": "code",
   "execution_count": 13,
   "metadata": {},
   "outputs": [
    {
     "data": {
      "image/png": "[encoded data removed]",
      "text/plain": [
       "<Figure size 432x288 with 1 Axes>"
      ]
     },
     "metadata": {},
     "output_type": "display_data"
    }
   ],
   "source": [
    "# 日付vs2001位ボーダー\n",
    "# だんだん上がっているように見える\n",
    "fig = plt.figure()\n",
    "ax = fig.add_subplot(111)\n",
    "x = df.loc[:, '日付']\n",
    "y = df.loc[:, '2001位']\n",
    "ax.scatter(x, y)\n",
    "plt.show()"
   ]
  },
  {
   "cell_type": "code",
   "execution_count": 14,
   "metadata": {},
   "outputs": [
    {
     "data": {
      "image/png": "[encoded data removed]",
      "text/plain": [
       "<Figure size 432x288 with 1 Axes>"
      ]
     },
     "metadata": {},
     "output_type": "display_data"
    }
   ],
   "source": [
    "# 日付vs2001位ボーダー\n",
    "# 形式ごとに色分けしてプロット\n",
    "# アタポンのばらつきが大きい\n",
    "events = df['形式'].unique()\n",
    "fig = plt.figure()\n",
    "ax = fig.add_subplot(111)\n",
    "\n",
    "for event in events:\n",
    "    x = df.loc[df['形式'] == event, '日付']\n",
    "    y = df.loc[df['形式'] == event, '2001位']\n",
    "    ax.scatter(x, y, label=event)\n",
    "    \n",
    "ax.legend(prop={\"family\":\"MS Gothic\"})\n",
    "plt.show()"
   ]
  },
  {
   "cell_type": "code",
   "execution_count": 15,
   "metadata": {},
   "outputs": [
    {
     "data": {
      "image/png": "[encoded data removed]",
      "text/plain": [
       "<Figure size 432x288 with 1 Axes>"
      ]
     },
     "metadata": {},
     "output_type": "display_data"
    }
   ],
   "source": [
    "# 日付vs期間\n",
    "# 2018年以降は200以下\n",
    "fig = plt.figure()\n",
    "ax = fig.add_subplot(111)\n",
    "x = df.loc[:, '日付']\n",
    "y = df.loc[:, '期間']\n",
    "ax.scatter(x, y)\n",
    "plt.show()"
   ]
  },
  {
   "cell_type": "markdown",
   "metadata": {},
   "source": [
    "## メモ"
   ]
  },
  {
   "cell_type": "markdown",
   "metadata": {},
   "source": [
    "* 形式\n",
    "  * Carnivalはデータ数少ないから分析は厳しい\n",
    "  * まずはデータ数が一番多いアタポンから手を付けるのが良さそう\n",
    "* 属性\n",
    "  * 大きな傾向の違いはなさそう\n",
    "  * 属性があるのはGrooveのみ\n",
    "* 期間\n",
    "  * 期間が長いほどボーダーが高いかと思ったが、そうでもなかった\n",
    "  * 関係性ゼロではないと思うが、他の要因のほうが強いのかも\n",
    "* 日付\n",
    "  * 傾向として、だんだん上がってるように見える\n",
    "  * 思いつく仮説は以下\n",
    "    * プレイヤーが増えて争いが激しくなってる\n",
    "    * イベント効率が上がっている\n",
    "      * キャラ性能の向上\n",
    "      * 楽曲、モード（グランドライブなど）の追加\n",
    "* その他考えられる要因\n",
    "  * イベント毎のバラつき\n",
    "    * イベント報酬\n",
    "    * イベント楽曲のポイント効率\n",
    "      * ノーツ数など"
   ]
  },
  {
   "cell_type": "code",
   "execution_count": null,
   "metadata": {},
   "outputs": [],
   "source": []
  }
 ],
 "metadata": {
  "kernelspec": {
   "display_name": "Python 3",
   "language": "python",
   "name": "python3"
  },
  "language_info": {
   "codemirror_mode": {
    "name": "ipython",
    "version": 3
   },
   "file_extension": ".py",
   "mimetype": "text/x-python",
   "name": "python",
   "nbconvert_exporter": "python",
   "pygments_lexer": "ipython3",
   "version": "3.7.1"
  }
 },
 "nbformat": 4,
 "nbformat_minor": 4
}
