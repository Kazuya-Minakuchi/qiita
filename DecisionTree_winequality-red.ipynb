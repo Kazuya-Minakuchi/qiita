{
 "cells": [
  {
   "cell_type": "code",
   "execution_count": 1,
   "metadata": {},
   "outputs": [],
   "source": [
    "#必要なライブラリインポート\n",
    "import numpy as np\n",
    "import pandas as pd\n",
    "import matplotlib.pyplot as plt\n",
    "import seaborn as sns\n",
    "from sklearn.tree import DecisionTreeClassifier\n",
    "%matplotlib inline"
   ]
  },
  {
   "cell_type": "code",
   "execution_count": 2,
   "metadata": {},
   "outputs": [
    {
     "data": {
      "text/html": [
       "<div>\n",
       "<style scoped>\n",
       "    .dataframe tbody tr th:only-of-type {\n",
       "        vertical-align: middle;\n",
       "    }\n",
       "\n",
       "    .dataframe tbody tr th {\n",
       "        vertical-align: top;\n",
       "    }\n",
       "\n",
       "    .dataframe thead th {\n",
       "        text-align: right;\n",
       "    }\n",
       "</style>\n",
       "<table border=\"1\" class=\"dataframe\">\n",
       "  <thead>\n",
       "    <tr style=\"text-align: right;\">\n",
       "      <th></th>\n",
       "      <th>fixed acidity</th>\n",
       "      <th>volatile acidity</th>\n",
       "      <th>citric acid</th>\n",
       "      <th>residual sugar</th>\n",
       "      <th>chlorides</th>\n",
       "      <th>free sulfur dioxide</th>\n",
       "      <th>total sulfur dioxide</th>\n",
       "      <th>density</th>\n",
       "      <th>pH</th>\n",
       "      <th>sulphates</th>\n",
       "      <th>alcohol</th>\n",
       "      <th>quality</th>\n",
       "    </tr>\n",
       "  </thead>\n",
       "  <tbody>\n",
       "    <tr>\n",
       "      <th>0</th>\n",
       "      <td>7.4</td>\n",
       "      <td>0.70</td>\n",
       "      <td>0.00</td>\n",
       "      <td>1.9</td>\n",
       "      <td>0.076</td>\n",
       "      <td>11.0</td>\n",
       "      <td>34.0</td>\n",
       "      <td>0.9978</td>\n",
       "      <td>3.51</td>\n",
       "      <td>0.56</td>\n",
       "      <td>9.4</td>\n",
       "      <td>5</td>\n",
       "    </tr>\n",
       "    <tr>\n",
       "      <th>1</th>\n",
       "      <td>7.8</td>\n",
       "      <td>0.88</td>\n",
       "      <td>0.00</td>\n",
       "      <td>2.6</td>\n",
       "      <td>0.098</td>\n",
       "      <td>25.0</td>\n",
       "      <td>67.0</td>\n",
       "      <td>0.9968</td>\n",
       "      <td>3.20</td>\n",
       "      <td>0.68</td>\n",
       "      <td>9.8</td>\n",
       "      <td>5</td>\n",
       "    </tr>\n",
       "    <tr>\n",
       "      <th>2</th>\n",
       "      <td>7.8</td>\n",
       "      <td>0.76</td>\n",
       "      <td>0.04</td>\n",
       "      <td>2.3</td>\n",
       "      <td>0.092</td>\n",
       "      <td>15.0</td>\n",
       "      <td>54.0</td>\n",
       "      <td>0.9970</td>\n",
       "      <td>3.26</td>\n",
       "      <td>0.65</td>\n",
       "      <td>9.8</td>\n",
       "      <td>5</td>\n",
       "    </tr>\n",
       "    <tr>\n",
       "      <th>3</th>\n",
       "      <td>11.2</td>\n",
       "      <td>0.28</td>\n",
       "      <td>0.56</td>\n",
       "      <td>1.9</td>\n",
       "      <td>0.075</td>\n",
       "      <td>17.0</td>\n",
       "      <td>60.0</td>\n",
       "      <td>0.9980</td>\n",
       "      <td>3.16</td>\n",
       "      <td>0.58</td>\n",
       "      <td>9.8</td>\n",
       "      <td>6</td>\n",
       "    </tr>\n",
       "    <tr>\n",
       "      <th>4</th>\n",
       "      <td>7.4</td>\n",
       "      <td>0.70</td>\n",
       "      <td>0.00</td>\n",
       "      <td>1.9</td>\n",
       "      <td>0.076</td>\n",
       "      <td>11.0</td>\n",
       "      <td>34.0</td>\n",
       "      <td>0.9978</td>\n",
       "      <td>3.51</td>\n",
       "      <td>0.56</td>\n",
       "      <td>9.4</td>\n",
       "      <td>5</td>\n",
       "    </tr>\n",
       "  </tbody>\n",
       "</table>\n",
       "</div>"
      ],
      "text/plain": [
       "   fixed acidity  volatile acidity  citric acid  residual sugar  chlorides  \\\n",
       "0            7.4              0.70         0.00             1.9      0.076   \n",
       "1            7.8              0.88         0.00             2.6      0.098   \n",
       "2            7.8              0.76         0.04             2.3      0.092   \n",
       "3           11.2              0.28         0.56             1.9      0.075   \n",
       "4            7.4              0.70         0.00             1.9      0.076   \n",
       "\n",
       "   free sulfur dioxide  total sulfur dioxide  density    pH  sulphates  \\\n",
       "0                 11.0                  34.0   0.9978  3.51       0.56   \n",
       "1                 25.0                  67.0   0.9968  3.20       0.68   \n",
       "2                 15.0                  54.0   0.9970  3.26       0.65   \n",
       "3                 17.0                  60.0   0.9980  3.16       0.58   \n",
       "4                 11.0                  34.0   0.9978  3.51       0.56   \n",
       "\n",
       "   alcohol  quality  \n",
       "0      9.4        5  \n",
       "1      9.8        5  \n",
       "2      9.8        5  \n",
       "3      9.8        6  \n",
       "4      9.4        5  "
      ]
     },
     "execution_count": 2,
     "metadata": {},
     "output_type": "execute_result"
    }
   ],
   "source": [
    "#winequality-redを読み込み\n",
    "url = \"http://archive.ics.uci.edu/ml/machine-learning-databases/wine-quality/winequality-red.csv\"\n",
    "data = pd.read_csv(url, sep=';')\n",
    "data.head()"
   ]
  },
  {
   "cell_type": "code",
   "execution_count": 3,
   "metadata": {},
   "outputs": [
    {
     "name": "stdout",
     "output_type": "stream",
     "text": [
      "<class 'pandas.core.frame.DataFrame'>\n",
      "RangeIndex: 1599 entries, 0 to 1598\n",
      "Data columns (total 12 columns):\n",
      " #   Column                Non-Null Count  Dtype  \n",
      "---  ------                --------------  -----  \n",
      " 0   fixed acidity         1599 non-null   float64\n",
      " 1   volatile acidity      1599 non-null   float64\n",
      " 2   citric acid           1599 non-null   float64\n",
      " 3   residual sugar        1599 non-null   float64\n",
      " 4   chlorides             1599 non-null   float64\n",
      " 5   free sulfur dioxide   1599 non-null   float64\n",
      " 6   total sulfur dioxide  1599 non-null   float64\n",
      " 7   density               1599 non-null   float64\n",
      " 8   pH                    1599 non-null   float64\n",
      " 9   sulphates             1599 non-null   float64\n",
      " 10  alcohol               1599 non-null   float64\n",
      " 11  quality               1599 non-null   int64  \n",
      "dtypes: float64(11), int64(1)\n",
      "memory usage: 150.0 KB\n"
     ]
    }
   ],
   "source": [
    "# データ数・型確認\n",
    "data.info()"
   ]
  },
  {
   "cell_type": "code",
   "execution_count": 4,
   "metadata": {},
   "outputs": [
    {
     "data": {
      "text/plain": [
       "5    681\n",
       "6    638\n",
       "7    199\n",
       "4     53\n",
       "8     18\n",
       "3     10\n",
       "Name: quality, dtype: int64"
      ]
     },
     "execution_count": 4,
     "metadata": {},
     "output_type": "execute_result"
    }
   ],
   "source": [
    "#qualityの中身、それぞれの数確認\n",
    "data[\"quality\"].value_counts()"
   ]
  },
  {
   "cell_type": "markdown",
   "metadata": {},
   "source": [
    "今回は、簡単にするためqualityが3と8のものだけにしてみる"
   ]
  },
  {
   "cell_type": "code",
   "execution_count": 5,
   "metadata": {},
   "outputs": [
    {
     "data": {
      "text/plain": [
       "8    18\n",
       "3    10\n",
       "Name: quality, dtype: int64"
      ]
     },
     "execution_count": 5,
     "metadata": {},
     "output_type": "execute_result"
    }
   ],
   "source": [
    "data = data[((data[\"quality\"] == 3) | (data[\"quality\"] == 8))]\n",
    "data[\"quality\"].value_counts()"
   ]
  },
  {
   "cell_type": "code",
   "execution_count": 6,
   "metadata": {},
   "outputs": [
    {
     "name": "stdout",
     "output_type": "stream",
     "text": [
      "<class 'pandas.core.frame.DataFrame'>\n",
      "Int64Index: 28 entries, 267 to 1549\n",
      "Data columns (total 12 columns):\n",
      " #   Column                Non-Null Count  Dtype  \n",
      "---  ------                --------------  -----  \n",
      " 0   fixed acidity         28 non-null     float64\n",
      " 1   volatile acidity      28 non-null     float64\n",
      " 2   citric acid           28 non-null     float64\n",
      " 3   residual sugar        28 non-null     float64\n",
      " 4   chlorides             28 non-null     float64\n",
      " 5   free sulfur dioxide   28 non-null     float64\n",
      " 6   total sulfur dioxide  28 non-null     float64\n",
      " 7   density               28 non-null     float64\n",
      " 8   pH                    28 non-null     float64\n",
      " 9   sulphates             28 non-null     float64\n",
      " 10  alcohol               28 non-null     float64\n",
      " 11  quality               28 non-null     int64  \n",
      "dtypes: float64(11), int64(1)\n",
      "memory usage: 2.8 KB\n"
     ]
    }
   ],
   "source": [
    "data.info()"
   ]
  },
  {
   "cell_type": "code",
   "execution_count": 7,
   "metadata": {},
   "outputs": [
    {
     "data": {
      "text/html": [
       "<div>\n",
       "<style scoped>\n",
       "    .dataframe tbody tr th:only-of-type {\n",
       "        vertical-align: middle;\n",
       "    }\n",
       "\n",
       "    .dataframe tbody tr th {\n",
       "        vertical-align: top;\n",
       "    }\n",
       "\n",
       "    .dataframe thead th {\n",
       "        text-align: right;\n",
       "    }\n",
       "</style>\n",
       "<table border=\"1\" class=\"dataframe\">\n",
       "  <thead>\n",
       "    <tr style=\"text-align: right;\">\n",
       "      <th></th>\n",
       "      <th>fixed acidity</th>\n",
       "      <th>volatile acidity</th>\n",
       "      <th>citric acid</th>\n",
       "      <th>residual sugar</th>\n",
       "      <th>chlorides</th>\n",
       "      <th>free sulfur dioxide</th>\n",
       "      <th>total sulfur dioxide</th>\n",
       "      <th>density</th>\n",
       "      <th>pH</th>\n",
       "      <th>sulphates</th>\n",
       "      <th>alcohol</th>\n",
       "      <th>quality</th>\n",
       "    </tr>\n",
       "  </thead>\n",
       "  <tbody>\n",
       "    <tr>\n",
       "      <th>fixed acidity</th>\n",
       "      <td>1.000000</td>\n",
       "      <td>-0.341869</td>\n",
       "      <td>0.823366</td>\n",
       "      <td>0.227019</td>\n",
       "      <td>0.099468</td>\n",
       "      <td>-0.158852</td>\n",
       "      <td>-0.276089</td>\n",
       "      <td>0.725330</td>\n",
       "      <td>-0.742853</td>\n",
       "      <td>0.012538</td>\n",
       "      <td>-0.334340</td>\n",
       "      <td>0.051166</td>\n",
       "    </tr>\n",
       "    <tr>\n",
       "      <th>volatile acidity</th>\n",
       "      <td>-0.341869</td>\n",
       "      <td>1.000000</td>\n",
       "      <td>-0.699617</td>\n",
       "      <td>0.092648</td>\n",
       "      <td>0.292103</td>\n",
       "      <td>-0.213337</td>\n",
       "      <td>-0.129026</td>\n",
       "      <td>0.036793</td>\n",
       "      <td>0.560436</td>\n",
       "      <td>-0.694873</td>\n",
       "      <td>-0.232389</td>\n",
       "      <td>-0.710050</td>\n",
       "    </tr>\n",
       "    <tr>\n",
       "      <th>citric acid</th>\n",
       "      <td>0.823366</td>\n",
       "      <td>-0.699617</td>\n",
       "      <td>1.000000</td>\n",
       "      <td>0.095429</td>\n",
       "      <td>-0.118314</td>\n",
       "      <td>-0.104642</td>\n",
       "      <td>-0.124607</td>\n",
       "      <td>0.436046</td>\n",
       "      <td>-0.764744</td>\n",
       "      <td>0.370276</td>\n",
       "      <td>-0.028639</td>\n",
       "      <td>0.447726</td>\n",
       "    </tr>\n",
       "    <tr>\n",
       "      <th>residual sugar</th>\n",
       "      <td>0.227019</td>\n",
       "      <td>0.092648</td>\n",
       "      <td>0.095429</td>\n",
       "      <td>1.000000</td>\n",
       "      <td>-0.144357</td>\n",
       "      <td>-0.366247</td>\n",
       "      <td>-0.369399</td>\n",
       "      <td>0.414477</td>\n",
       "      <td>0.004336</td>\n",
       "      <td>-0.104407</td>\n",
       "      <td>0.173237</td>\n",
       "      <td>-0.021342</td>\n",
       "    </tr>\n",
       "    <tr>\n",
       "      <th>chlorides</th>\n",
       "      <td>0.099468</td>\n",
       "      <td>0.292103</td>\n",
       "      <td>-0.118314</td>\n",
       "      <td>-0.144357</td>\n",
       "      <td>1.000000</td>\n",
       "      <td>-0.000722</td>\n",
       "      <td>-0.214724</td>\n",
       "      <td>0.214820</td>\n",
       "      <td>-0.045742</td>\n",
       "      <td>-0.365546</td>\n",
       "      <td>-0.480154</td>\n",
       "      <td>-0.556782</td>\n",
       "    </tr>\n",
       "    <tr>\n",
       "      <th>free sulfur dioxide</th>\n",
       "      <td>-0.158852</td>\n",
       "      <td>-0.213337</td>\n",
       "      <td>-0.104642</td>\n",
       "      <td>-0.366247</td>\n",
       "      <td>-0.000722</td>\n",
       "      <td>1.000000</td>\n",
       "      <td>0.734156</td>\n",
       "      <td>-0.362510</td>\n",
       "      <td>0.055214</td>\n",
       "      <td>0.112313</td>\n",
       "      <td>0.233196</td>\n",
       "      <td>0.105318</td>\n",
       "    </tr>\n",
       "    <tr>\n",
       "      <th>total sulfur dioxide</th>\n",
       "      <td>-0.276089</td>\n",
       "      <td>-0.129026</td>\n",
       "      <td>-0.124607</td>\n",
       "      <td>-0.369399</td>\n",
       "      <td>-0.214724</td>\n",
       "      <td>0.734156</td>\n",
       "      <td>1.000000</td>\n",
       "      <td>-0.431682</td>\n",
       "      <td>0.162350</td>\n",
       "      <td>0.204563</td>\n",
       "      <td>0.325189</td>\n",
       "      <td>0.182999</td>\n",
       "    </tr>\n",
       "    <tr>\n",
       "      <th>density</th>\n",
       "      <td>0.725330</td>\n",
       "      <td>0.036793</td>\n",
       "      <td>0.436046</td>\n",
       "      <td>0.414477</td>\n",
       "      <td>0.214820</td>\n",
       "      <td>-0.362510</td>\n",
       "      <td>-0.431682</td>\n",
       "      <td>1.000000</td>\n",
       "      <td>-0.365374</td>\n",
       "      <td>-0.176666</td>\n",
       "      <td>-0.649647</td>\n",
       "      <td>-0.444714</td>\n",
       "    </tr>\n",
       "    <tr>\n",
       "      <th>pH</th>\n",
       "      <td>-0.742853</td>\n",
       "      <td>0.560436</td>\n",
       "      <td>-0.764744</td>\n",
       "      <td>0.004336</td>\n",
       "      <td>-0.045742</td>\n",
       "      <td>0.055214</td>\n",
       "      <td>0.162350</td>\n",
       "      <td>-0.365374</td>\n",
       "      <td>1.000000</td>\n",
       "      <td>-0.209348</td>\n",
       "      <td>0.261123</td>\n",
       "      <td>-0.334766</td>\n",
       "    </tr>\n",
       "    <tr>\n",
       "      <th>sulphates</th>\n",
       "      <td>0.012538</td>\n",
       "      <td>-0.694873</td>\n",
       "      <td>0.370276</td>\n",
       "      <td>-0.104407</td>\n",
       "      <td>-0.365546</td>\n",
       "      <td>0.112313</td>\n",
       "      <td>0.204563</td>\n",
       "      <td>-0.176666</td>\n",
       "      <td>-0.209348</td>\n",
       "      <td>1.000000</td>\n",
       "      <td>0.300577</td>\n",
       "      <td>0.641121</td>\n",
       "    </tr>\n",
       "    <tr>\n",
       "      <th>alcohol</th>\n",
       "      <td>-0.334340</td>\n",
       "      <td>-0.232389</td>\n",
       "      <td>-0.028639</td>\n",
       "      <td>0.173237</td>\n",
       "      <td>-0.480154</td>\n",
       "      <td>0.233196</td>\n",
       "      <td>0.325189</td>\n",
       "      <td>-0.649647</td>\n",
       "      <td>0.261123</td>\n",
       "      <td>0.300577</td>\n",
       "      <td>1.000000</td>\n",
       "      <td>0.695008</td>\n",
       "    </tr>\n",
       "    <tr>\n",
       "      <th>quality</th>\n",
       "      <td>0.051166</td>\n",
       "      <td>-0.710050</td>\n",
       "      <td>0.447726</td>\n",
       "      <td>-0.021342</td>\n",
       "      <td>-0.556782</td>\n",
       "      <td>0.105318</td>\n",
       "      <td>0.182999</td>\n",
       "      <td>-0.444714</td>\n",
       "      <td>-0.334766</td>\n",
       "      <td>0.641121</td>\n",
       "      <td>0.695008</td>\n",
       "      <td>1.000000</td>\n",
       "    </tr>\n",
       "  </tbody>\n",
       "</table>\n",
       "</div>"
      ],
      "text/plain": [
       "                      fixed acidity  volatile acidity  citric acid  \\\n",
       "fixed acidity              1.000000         -0.341869     0.823366   \n",
       "volatile acidity          -0.341869          1.000000    -0.699617   \n",
       "citric acid                0.823366         -0.699617     1.000000   \n",
       "residual sugar             0.227019          0.092648     0.095429   \n",
       "chlorides                  0.099468          0.292103    -0.118314   \n",
       "free sulfur dioxide       -0.158852         -0.213337    -0.104642   \n",
       "total sulfur dioxide      -0.276089         -0.129026    -0.124607   \n",
       "density                    0.725330          0.036793     0.436046   \n",
       "pH                        -0.742853          0.560436    -0.764744   \n",
       "sulphates                  0.012538         -0.694873     0.370276   \n",
       "alcohol                   -0.334340         -0.232389    -0.028639   \n",
       "quality                    0.051166         -0.710050     0.447726   \n",
       "\n",
       "                      residual sugar  chlorides  free sulfur dioxide  \\\n",
       "fixed acidity               0.227019   0.099468            -0.158852   \n",
       "volatile acidity            0.092648   0.292103            -0.213337   \n",
       "citric acid                 0.095429  -0.118314            -0.104642   \n",
       "residual sugar              1.000000  -0.144357            -0.366247   \n",
       "chlorides                  -0.144357   1.000000            -0.000722   \n",
       "free sulfur dioxide        -0.366247  -0.000722             1.000000   \n",
       "total sulfur dioxide       -0.369399  -0.214724             0.734156   \n",
       "density                     0.414477   0.214820            -0.362510   \n",
       "pH                          0.004336  -0.045742             0.055214   \n",
       "sulphates                  -0.104407  -0.365546             0.112313   \n",
       "alcohol                     0.173237  -0.480154             0.233196   \n",
       "quality                    -0.021342  -0.556782             0.105318   \n",
       "\n",
       "                      total sulfur dioxide   density        pH  sulphates  \\\n",
       "fixed acidity                    -0.276089  0.725330 -0.742853   0.012538   \n",
       "volatile acidity                 -0.129026  0.036793  0.560436  -0.694873   \n",
       "citric acid                      -0.124607  0.436046 -0.764744   0.370276   \n",
       "residual sugar                   -0.369399  0.414477  0.004336  -0.104407   \n",
       "chlorides                        -0.214724  0.214820 -0.045742  -0.365546   \n",
       "free sulfur dioxide               0.734156 -0.362510  0.055214   0.112313   \n",
       "total sulfur dioxide              1.000000 -0.431682  0.162350   0.204563   \n",
       "density                          -0.431682  1.000000 -0.365374  -0.176666   \n",
       "pH                                0.162350 -0.365374  1.000000  -0.209348   \n",
       "sulphates                         0.204563 -0.176666 -0.209348   1.000000   \n",
       "alcohol                           0.325189 -0.649647  0.261123   0.300577   \n",
       "quality                           0.182999 -0.444714 -0.334766   0.641121   \n",
       "\n",
       "                       alcohol   quality  \n",
       "fixed acidity        -0.334340  0.051166  \n",
       "volatile acidity     -0.232389 -0.710050  \n",
       "citric acid          -0.028639  0.447726  \n",
       "residual sugar        0.173237 -0.021342  \n",
       "chlorides            -0.480154 -0.556782  \n",
       "free sulfur dioxide   0.233196  0.105318  \n",
       "total sulfur dioxide  0.325189  0.182999  \n",
       "density              -0.649647 -0.444714  \n",
       "pH                    0.261123 -0.334766  \n",
       "sulphates             0.300577  0.641121  \n",
       "alcohol               1.000000  0.695008  \n",
       "quality               0.695008  1.000000  "
      ]
     },
     "execution_count": 7,
     "metadata": {},
     "output_type": "execute_result"
    }
   ],
   "source": [
    "data.corr()"
   ]
  },
  {
   "cell_type": "code",
   "execution_count": 8,
   "metadata": {},
   "outputs": [
    {
     "data": {
      "image/png": "[encoded data removed]",
      "text/plain": [
       "<Figure size 432x288 with 2 Axes>"
      ]
     },
     "metadata": {
      "needs_background": "light"
     },
     "output_type": "display_data"
    }
   ],
   "source": [
    "sns.heatmap(data.corr());"
   ]
  },
  {
   "cell_type": "markdown",
   "metadata": {},
   "source": [
    "今回は２次元でグラフをつくるため、説明変数には\"volatile acidity\"と\"alcohol\"だけ残す。この2つを残す理由は以下\n",
    "- \"quality\"との相関係数の絶対値が高い\n",
    "- 説明変数同士の相関係数が低い"
   ]
  },
  {
   "cell_type": "code",
   "execution_count": 9,
   "metadata": {},
   "outputs": [
    {
     "name": "stdout",
     "output_type": "stream",
     "text": [
      "<class 'pandas.core.frame.DataFrame'>\n",
      "Int64Index: 28 entries, 267 to 1549\n",
      "Data columns (total 3 columns):\n",
      " #   Column            Non-Null Count  Dtype  \n",
      "---  ------            --------------  -----  \n",
      " 0   volatile acidity  28 non-null     float64\n",
      " 1   alcohol           28 non-null     float64\n",
      " 2   quality           28 non-null     int64  \n",
      "dtypes: float64(2), int64(1)\n",
      "memory usage: 896.0 bytes\n"
     ]
    }
   ],
   "source": [
    "data= data[[\"volatile acidity\", \"alcohol\", \"quality\"]]\n",
    "data.info()"
   ]
  },
  {
   "cell_type": "code",
   "execution_count": 10,
   "metadata": {},
   "outputs": [
    {
     "data": {
      "image/png": "[encoded data removed]",
      "text/plain": [
       "<Figure size 432x288 with 1 Axes>"
      ]
     },
     "metadata": {
      "needs_background": "light"
     },
     "output_type": "display_data"
    }
   ],
   "source": [
    "fig = plt.figure()\n",
    "ax = fig.add_subplot(1, 1, 1)\n",
    "ax.scatter(data[\"volatile acidity\"], data[\"alcohol\"], c=data[\"quality\"])\n",
    "ax.set_xlabel(\"volatile acidity\")\n",
    "ax.set_ylabel(\"alcohol\");"
   ]
  },
  {
   "cell_type": "code",
   "execution_count": 18,
   "metadata": {},
   "outputs": [],
   "source": [
    "# データ取り出す\n",
    "xy = data[[\"volatile acidity\", \"alcohol\"]]\n",
    "z = data[\"quality\"]"
   ]
  },
  {
   "cell_type": "code",
   "execution_count": 19,
   "metadata": {},
   "outputs": [
    {
     "data": {
      "text/plain": [
       "DecisionTreeClassifier(ccp_alpha=0.0, class_weight=None, criterion='gini',\n",
       "                       max_depth=3, max_features=None, max_leaf_nodes=None,\n",
       "                       min_impurity_decrease=0.0, min_impurity_split=None,\n",
       "                       min_samples_leaf=1, min_samples_split=2,\n",
       "                       min_weight_fraction_leaf=0.0, presort='deprecated',\n",
       "                       random_state=None, splitter='best')"
      ]
     },
     "execution_count": 19,
     "metadata": {},
     "output_type": "execute_result"
    }
   ],
   "source": [
    "# ロジスティック回帰のモデル\n",
    "model = DecisionTreeClassifier(max_depth=3)\n",
    "model.fit(xy, z)"
   ]
  },
  {
   "cell_type": "code",
   "execution_count": 20,
   "metadata": {},
   "outputs": [
    {
     "data": {
      "image/png": "[encoded data removed]",
      "text/plain": [
       "<Figure size 432x288 with 1 Axes>"
      ]
     },
     "metadata": {
      "needs_background": "light"
     },
     "output_type": "display_data"
    }
   ],
   "source": [
    "x_min, x_max = data[\"volatile acidity\"].min(), data[\"volatile acidity\"].max()\n",
    "y_min, y_max = data[\"alcohol\"].min(), data[\"alcohol\"].max()\n",
    "\n",
    "x_mesh, y_mesh = np.meshgrid(np.linspace(x_min, x_max, 50),\n",
    "                             np.linspace(y_min, y_max, 50))\n",
    "xy_mesh = np.c_[x_mesh.reshape(-1, 1), y_mesh.reshape(-1, 1)]\n",
    "\n",
    "#メッシュ毎にラベル予測(3 or 8)\n",
    "z_pred = model.predict(xy_mesh)\n",
    "\n",
    "fig = plt.figure()\n",
    "ax = fig.add_subplot(1, 1, 1)\n",
    "# ax.scatter(xy_mesh[:, 0], xy_mesh[:, 1], c=z_pred, alpha=0.1)\n",
    "ax.contour(x_mesh, y_mesh, z_pred.reshape(50, 50), colors=[\"0.6\", \"0.8\"], levels=[2.5, 5.5, 8.5])\n",
    "ax.scatter(data[\"volatile acidity\"], data[\"alcohol\"], c=data[\"quality\"])\n",
    "ax.set_xlabel(\"volatile acidity\")\n",
    "ax.set_ylabel(\"alcohol\");"
   ]
  },
  {
   "cell_type": "code",
   "execution_count": 22,
   "metadata": {},
   "outputs": [],
   "source": [
    "from sklearn import tree\n",
    "import pydotplus\n",
    "from sklearn.externals.six import StringIO\n",
    "from IPython.display import Image"
   ]
  },
  {
   "cell_type": "code",
   "execution_count": 23,
   "metadata": {},
   "outputs": [
    {
     "data": {
      "image/png": "[encoded data removed]",
      "text/plain": [
       "<IPython.core.display.Image object>"
      ]
     },
     "execution_count": 23,
     "metadata": {},
     "output_type": "execute_result"
    }
   ],
   "source": [
    "dot_data = StringIO()\n",
    "tree.export_graphviz(model, out_file=dot_data)\n",
    "graph = pydotplus.graph_from_dot_data(dot_data.getvalue())\n",
    "Image(graph.create_png())"
   ]
  },
  {
   "cell_type": "code",
   "execution_count": null,
   "metadata": {},
   "outputs": [],
   "source": []
  }
 ],
 "metadata": {
  "kernelspec": {
   "display_name": "Python 3",
   "language": "python",
   "name": "python3"
  },
  "language_info": {
   "codemirror_mode": {
    "name": "ipython",
    "version": 3
   },
   "file_extension": ".py",
   "mimetype": "text/x-python",
   "name": "python",
   "nbconvert_exporter": "python",
   "pygments_lexer": "ipython3",
   "version": "3.7.1"
  }
 },
 "nbformat": 4,
 "nbformat_minor": 4
}
